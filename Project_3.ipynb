{
 "cells": [
  {
   "cell_type": "code",
   "execution_count": 1,
   "metadata": {},
   "outputs": [],
   "source": [
    "## Import `os'\n",
    "import os"
   ]
  },
  {
   "cell_type": "code",
   "execution_count": 2,
   "metadata": {},
   "outputs": [
    {
     "data": {
      "text/plain": [
       "'C:\\\\Users\\\\Juan Nunez'"
      ]
     },
     "execution_count": 2,
     "metadata": {},
     "output_type": "execute_result"
    }
   ],
   "source": [
    "## Now that `os' is downloaded, I'm going to save the command to get the working directory as `cwd'\n",
    "\n",
    "cwd = os.getcwd()## Now I list all files and directories in the current directory\n",
    "os.listdir('.')\n",
    "cwd"
   ]
  },
  {
   "cell_type": "code",
   "execution_count": 3,
   "metadata": {},
   "outputs": [
    {
     "data": {
      "text/plain": [
       "'C:\\\\Users\\\\Juan Nunez\\\\Desktop\\\\DATA_201'"
      ]
     },
     "execution_count": 3,
     "metadata": {},
     "output_type": "execute_result"
    }
   ],
   "source": [
    "## Now I want to change my working directory to the folder that contains my project files.\n",
    "os.chdir(\"C:/Users/Juan Nunez/Desktop/DATA_201\")\n",
    "os.getcwd()"
   ]
  },
  {
   "cell_type": "code",
   "execution_count": 4,
   "metadata": {
    "scrolled": true
   },
   "outputs": [
    {
     "data": {
      "text/plain": [
       "['.git',\n",
       " '.ipynb_checkpoints',\n",
       " 'ASSIG1_DATA.csv',\n",
       " 'ASSIG1_DATA.xlsx',\n",
       " 'Basic Matplotlib.ipynb',\n",
       " 'Basic Numpy.ipynb',\n",
       " 'Basic Pandas.ipynb',\n",
       " 'Basic Python 1.ipynb',\n",
       " 'Bayesian Linear Regression.ipynb',\n",
       " 'HD4.stc',\n",
       " 'HDAT4.tsv',\n",
       " 'HDATA4-Codebook.pdf',\n",
       " 'hespese4.dta',\n",
       " 'HESPESE_4.sav',\n",
       " 'Lecture3.pdf',\n",
       " 'Lecture4.pdf',\n",
       " 'LESDATA.csv',\n",
       " 'Linear Regression.ipynb',\n",
       " 'Non-parametric Simulations Bootstrapping.ipynb',\n",
       " 'Project_1.ipynb',\n",
       " 'Python_Assignment_2.ipynb',\n",
       " 'SPSS_DATA_FOR_Python.sav']"
      ]
     },
     "execution_count": 4,
     "metadata": {},
     "output_type": "execute_result"
    }
   ],
   "source": [
    "## Now I list all files and directories in the current directory\n",
    "os.listdir('.')"
   ]
  },
  {
   "cell_type": "code",
   "execution_count": 5,
   "metadata": {},
   "outputs": [],
   "source": [
    "## Once the command above runs, I load the spreadsheet\n",
    "import pandas as pd\n",
    "import numpy as np\n",
    "\n",
    "Pro2 = pd.read_table(\"HDAT4.tsv\")"
   ]
  },
  {
   "cell_type": "code",
   "execution_count": 6,
   "metadata": {},
   "outputs": [
    {
     "name": "stdout",
     "output_type": "stream",
     "text": [
      "(1682, 430)\n"
     ]
    },
    {
     "data": {
      "text/html": [
       "<div>\n",
       "<style scoped>\n",
       "    .dataframe tbody tr th:only-of-type {\n",
       "        vertical-align: middle;\n",
       "    }\n",
       "\n",
       "    .dataframe tbody tr th {\n",
       "        vertical-align: top;\n",
       "    }\n",
       "\n",
       "    .dataframe thead th {\n",
       "        text-align: right;\n",
       "    }\n",
       "</style>\n",
       "<table border=\"1\" class=\"dataframe\">\n",
       "  <thead>\n",
       "    <tr style=\"text-align: right;\">\n",
       "      <th></th>\n",
       "      <th>Q_NO</th>\n",
       "      <th>DATEINT4</th>\n",
       "      <th>PSU</th>\n",
       "      <th>GRADE</th>\n",
       "      <th>USBORN</th>\n",
       "      <th>PSTATE</th>\n",
       "      <th>NEWWGT</th>\n",
       "      <th>AGE4</th>\n",
       "      <th>SEX4</th>\n",
       "      <th>PRXYREL4</th>\n",
       "      <th>...</th>\n",
       "      <th>OO48F</th>\n",
       "      <th>OO48G</th>\n",
       "      <th>OO49A</th>\n",
       "      <th>OO49LANG</th>\n",
       "      <th>PRXRILL4</th>\n",
       "      <th>PRXDEAF4</th>\n",
       "      <th>PRXAWAY4</th>\n",
       "      <th>PRXMENT4</th>\n",
       "      <th>PRXNONH4</th>\n",
       "      <th>PROXOTH4</th>\n",
       "    </tr>\n",
       "  </thead>\n",
       "  <tbody>\n",
       "    <tr>\n",
       "      <th>0</th>\n",
       "      <td>10001</td>\n",
       "      <td>20-Nov-2000</td>\n",
       "      <td>281</td>\n",
       "      <td>0</td>\n",
       "      <td>1</td>\n",
       "      <td>TX</td>\n",
       "      <td>1</td>\n",
       "      <td>77</td>\n",
       "      <td>2</td>\n",
       "      <td></td>\n",
       "      <td>...</td>\n",
       "      <td></td>\n",
       "      <td></td>\n",
       "      <td>1</td>\n",
       "      <td>2</td>\n",
       "      <td></td>\n",
       "      <td></td>\n",
       "      <td></td>\n",
       "      <td></td>\n",
       "      <td></td>\n",
       "      <td></td>\n",
       "    </tr>\n",
       "    <tr>\n",
       "      <th>1</th>\n",
       "      <td>10002</td>\n",
       "      <td>09-Nov-2000</td>\n",
       "      <td>166</td>\n",
       "      <td>8</td>\n",
       "      <td>1</td>\n",
       "      <td>CO</td>\n",
       "      <td>1</td>\n",
       "      <td>80</td>\n",
       "      <td>2</td>\n",
       "      <td></td>\n",
       "      <td>...</td>\n",
       "      <td>2</td>\n",
       "      <td>1</td>\n",
       "      <td>1</td>\n",
       "      <td>1</td>\n",
       "      <td></td>\n",
       "      <td></td>\n",
       "      <td></td>\n",
       "      <td></td>\n",
       "      <td></td>\n",
       "      <td></td>\n",
       "    </tr>\n",
       "    <tr>\n",
       "      <th>2</th>\n",
       "      <td>10008</td>\n",
       "      <td>09-Jun-2001</td>\n",
       "      <td>180</td>\n",
       "      <td>8</td>\n",
       "      <td>1</td>\n",
       "      <td>TX</td>\n",
       "      <td>1</td>\n",
       "      <td>77</td>\n",
       "      <td>2</td>\n",
       "      <td></td>\n",
       "      <td>...</td>\n",
       "      <td></td>\n",
       "      <td></td>\n",
       "      <td>1</td>\n",
       "      <td>1</td>\n",
       "      <td></td>\n",
       "      <td></td>\n",
       "      <td></td>\n",
       "      <td></td>\n",
       "      <td></td>\n",
       "      <td></td>\n",
       "    </tr>\n",
       "    <tr>\n",
       "      <th>3</th>\n",
       "      <td>10009</td>\n",
       "      <td>08-Jun-2001</td>\n",
       "      <td>151</td>\n",
       "      <td>6</td>\n",
       "      <td>0</td>\n",
       "      <td>CA</td>\n",
       "      <td>1</td>\n",
       "      <td>78</td>\n",
       "      <td>1</td>\n",
       "      <td></td>\n",
       "      <td>...</td>\n",
       "      <td>2</td>\n",
       "      <td>1</td>\n",
       "      <td>1</td>\n",
       "      <td>2</td>\n",
       "      <td></td>\n",
       "      <td></td>\n",
       "      <td></td>\n",
       "      <td></td>\n",
       "      <td></td>\n",
       "      <td></td>\n",
       "    </tr>\n",
       "    <tr>\n",
       "      <th>4</th>\n",
       "      <td>10010</td>\n",
       "      <td>06-Feb-2001</td>\n",
       "      <td>151</td>\n",
       "      <td>0</td>\n",
       "      <td>0</td>\n",
       "      <td>CA</td>\n",
       "      <td>1</td>\n",
       "      <td>75</td>\n",
       "      <td>2</td>\n",
       "      <td></td>\n",
       "      <td>...</td>\n",
       "      <td></td>\n",
       "      <td></td>\n",
       "      <td>1</td>\n",
       "      <td>2</td>\n",
       "      <td></td>\n",
       "      <td></td>\n",
       "      <td></td>\n",
       "      <td></td>\n",
       "      <td></td>\n",
       "      <td></td>\n",
       "    </tr>\n",
       "  </tbody>\n",
       "</table>\n",
       "<p>5 rows × 430 columns</p>\n",
       "</div>"
      ],
      "text/plain": [
       "    Q_NO     DATEINT4  PSU GRADE  USBORN PSTATE  NEWWGT  AGE4  SEX4 PRXYREL4  \\\n",
       "0  10001  20-Nov-2000  281     0       1     TX       1    77     2            \n",
       "1  10002  09-Nov-2000  166     8       1     CO       1    80     2            \n",
       "2  10008  09-Jun-2001  180     8       1     TX       1    77     2            \n",
       "3  10009  08-Jun-2001  151     6       0     CA       1    78     1            \n",
       "4  10010  06-Feb-2001  151     0       0     CA       1    75     2            \n",
       "\n",
       "     ...     OO48F OO48G OO49A OO49LANG PRXRILL4 PRXDEAF4 PRXAWAY4 PRXMENT4  \\\n",
       "0    ...                     1        2                                       \n",
       "1    ...         2     1     1        1                                       \n",
       "2    ...                     1        1                                       \n",
       "3    ...         2     1     1        2                                       \n",
       "4    ...                     1        2                                       \n",
       "\n",
       "  PRXNONH4  PROXOTH4  \n",
       "0                     \n",
       "1                     \n",
       "2                     \n",
       "3                     \n",
       "4                     \n",
       "\n",
       "[5 rows x 430 columns]"
      ]
     },
     "execution_count": 6,
     "metadata": {},
     "output_type": "execute_result"
    }
   ],
   "source": [
    "## Now that the DataFrame seems to be succesfully uploaded to Python, I will start with the project. \n",
    "## I start by looking at the dimension of the Dataframe\n",
    "print(Pro2.shape)\n",
    "Pro2.head()"
   ]
  },
  {
   "cell_type": "code",
   "execution_count": 7,
   "metadata": {},
   "outputs": [
    {
     "data": {
      "text/plain": [
       "['Q_NO',\n",
       " 'DATEINT4',\n",
       " 'PSU',\n",
       " 'GRADE',\n",
       " 'USBORN',\n",
       " 'PSTATE',\n",
       " 'NEWWGT',\n",
       " 'AGE4',\n",
       " 'SEX4',\n",
       " 'PRXYREL4',\n",
       " 'MARSTAT4',\n",
       " 'MARCHG4',\n",
       " 'CHGMARR4',\n",
       " 'CHGWIDO4',\n",
       " 'CHGDIVO4',\n",
       " 'CHGSEPA4',\n",
       " 'NHOUSE4',\n",
       " 'REFNH4',\n",
       " 'HOUSIZ4',\n",
       " 'HHREL4',\n",
       " 'MOVED4',\n",
       " 'ASSTLIV4',\n",
       " 'CLOSKID4',\n",
       " 'MOVOTH41',\n",
       " 'MOVIN4',\n",
       " 'WHOMOV41',\n",
       " 'WHOMOV42',\n",
       " 'WHOMOV43',\n",
       " 'WHOMOV44',\n",
       " 'TAKCARE4',\n",
       " 'PLASTAY4',\n",
       " 'YOU41',\n",
       " 'YOUDK41',\n",
       " 'YOUREF41',\n",
       " 'NKIDS4',\n",
       " 'DKNKIDS4',\n",
       " 'SEEMON4',\n",
       " 'NOSEE4',\n",
       " 'MINSGET4',\n",
       " 'HRSGET4',\n",
       " 'KIDSHME4',\n",
       " 'TOTMINS4',\n",
       " 'TOTHRS4',\n",
       " 'COUNTON4',\n",
       " 'TALK4',\n",
       " 'HEALTH4',\n",
       " 'CUTDOWN4',\n",
       " 'STAYBED4',\n",
       " 'ICARDI41',\n",
       " 'ICARDI45',\n",
       " 'JSTROK41',\n",
       " 'JSTROK45',\n",
       " 'JSTROK46',\n",
       " 'JSTRO47A',\n",
       " 'JSTRO47B',\n",
       " 'JSTRO47C',\n",
       " 'JSTRO47D',\n",
       " 'JSTRO47E',\n",
       " 'KHYPER41',\n",
       " 'KHYPER43',\n",
       " 'KHYPER44',\n",
       " 'LCANCR41',\n",
       " 'MDIAB41',\n",
       " 'MDIAB42',\n",
       " 'NMDIAB42',\n",
       " 'MDIAB43',\n",
       " 'MDIAB44',\n",
       " 'MDIAB45',\n",
       " 'MDIAB46',\n",
       " 'MDIAB47A',\n",
       " 'MDIAB47B',\n",
       " 'MDIAB47C',\n",
       " 'NOM47',\n",
       " 'MDIAB410',\n",
       " 'MDIA410A',\n",
       " 'MDIAB411',\n",
       " 'MDIA411A',\n",
       " 'MDIAB48A',\n",
       " 'MDIAB48B',\n",
       " 'MDIAB48C',\n",
       " 'MDIAB48D',\n",
       " 'MDIAB48E',\n",
       " 'MDIAB48F',\n",
       " 'MDIAB48G',\n",
       " 'NOM48G',\n",
       " 'MDIAB48H',\n",
       " 'MDIAB48I',\n",
       " 'MDIAB412',\n",
       " 'MDIAB413',\n",
       " 'M13FEET4',\n",
       " 'M13LEGS4',\n",
       " 'M13HAND4',\n",
       " 'M13ABD4',\n",
       " 'M13EYES4',\n",
       " 'M13KIDN4',\n",
       " 'M13BACK4',\n",
       " 'M13OTH4',\n",
       " 'MDIAB414',\n",
       " 'DIABETE4',\n",
       " 'NFRAC41',\n",
       " 'NFRAC45',\n",
       " 'NFRAC43',\n",
       " 'NFRAC44A',\n",
       " 'NFRAC44B',\n",
       " 'NFRAC44C',\n",
       " 'NFRAC44D',\n",
       " 'NFRAC44E',\n",
       " 'NFRAC44F',\n",
       " 'NFRAC44G',\n",
       " 'NFRAC44H',\n",
       " 'NFRAC44I',\n",
       " 'NFRAC44J',\n",
       " 'PARTH45',\n",
       " 'PARTH47',\n",
       " 'P8FALL4',\n",
       " 'P9FALL4',\n",
       " 'P10FALL4',\n",
       " 'QINCON41',\n",
       " 'AUASI4A',\n",
       " 'AUASI4B',\n",
       " 'AUASI4C',\n",
       " 'AUASI4D',\n",
       " 'AUASI4E',\n",
       " 'AUASI4F',\n",
       " 'AUASI4G',\n",
       " 'SHEAR45',\n",
       " 'U43A',\n",
       " 'U43C',\n",
       " 'U43D',\n",
       " 'U43F',\n",
       " 'U43N',\n",
       " 'U43O',\n",
       " 'U43Q',\n",
       " 'U43S',\n",
       " 'U43X',\n",
       " 'U43H',\n",
       " 'U43U',\n",
       " 'U2DESTR4',\n",
       " 'U2ETXYR4',\n",
       " 'U2ETX4',\n",
       " 'U2FMAMM4',\n",
       " 'U2HPAP4',\n",
       " 'VVIS46A',\n",
       " 'VVIS46B',\n",
       " 'VVIS46C',\n",
       " 'DVISION4',\n",
       " 'NVISION4',\n",
       " 'WCORR41',\n",
       " 'WCORR42',\n",
       " 'WCORR43',\n",
       " 'WCORR44',\n",
       " 'WCORR45',\n",
       " 'WCORR46',\n",
       " 'WCORR47',\n",
       " 'WCORR48',\n",
       " 'WCORR49',\n",
       " 'WCORR410',\n",
       " 'WMMS411A',\n",
       " 'WMMS411B',\n",
       " 'WMMS411C',\n",
       " 'WCORR412',\n",
       " 'WMMS413A',\n",
       " 'WMMS413B',\n",
       " 'WMMS413C',\n",
       " 'WMMSE414',\n",
       " 'WNODO414',\n",
       " 'WMMSE415',\n",
       " 'WNODO415',\n",
       " 'WMMSE416',\n",
       " 'WMMSE417',\n",
       " 'WMMS418A',\n",
       " 'WMMS418B',\n",
       " 'WMMS418C',\n",
       " 'WMMSE419',\n",
       " 'WMMSE420',\n",
       " 'TOTMMSE4',\n",
       " 'X4CESD1',\n",
       " 'X4CESD2',\n",
       " 'X4CESD3',\n",
       " 'X4CESD4',\n",
       " 'X4CESD5',\n",
       " 'X4CESD6',\n",
       " 'X4CESD7',\n",
       " 'X4CESD8',\n",
       " 'X4CESD9',\n",
       " 'X4CESD10',\n",
       " 'X4CESD11',\n",
       " 'X4CESD12',\n",
       " 'X4CESD13',\n",
       " 'X4CESD14',\n",
       " 'X4CESD15',\n",
       " 'X4CESD16',\n",
       " 'X4CESD17',\n",
       " 'X4CESD18',\n",
       " 'X4CESD19',\n",
       " 'X4CESD20',\n",
       " 'CESDTOT4',\n",
       " 'CASE4',\n",
       " 'YSMOKE43',\n",
       " 'ZALC42',\n",
       " 'GG41',\n",
       " 'NOGG41',\n",
       " 'NSBP4',\n",
       " 'SBP_AVG4',\n",
       " 'NDBP4',\n",
       " 'DBP_AVG4',\n",
       " 'GG46',\n",
       " 'HTN4',\n",
       " 'GGCAT4',\n",
       " 'BB1A4',\n",
       " 'BB1B4',\n",
       " 'BB1C4',\n",
       " 'BB1D4',\n",
       " 'BB1E4',\n",
       " 'BB1F4',\n",
       " 'BB1G4',\n",
       " 'BB1H4',\n",
       " 'BB1I4',\n",
       " 'BB1J4',\n",
       " 'HLPREL41',\n",
       " 'DKHELP41',\n",
       " 'TOTIADL4',\n",
       " 'ANYIADL4',\n",
       " 'BB2A4',\n",
       " 'BB2B4',\n",
       " 'BB2C4',\n",
       " 'BB2D4',\n",
       " 'BB2E4',\n",
       " 'BB2F4',\n",
       " 'BB2G4',\n",
       " 'TOTADL4',\n",
       " 'ANYADL4',\n",
       " 'TYPEHLP4',\n",
       " 'MOSTREL4',\n",
       " 'DKMOST4',\n",
       " 'ELSEREL4',\n",
       " 'DKELSE4',\n",
       " 'CC41B',\n",
       " 'CC41C',\n",
       " 'CC1CPR41',\n",
       " 'CC41D',\n",
       " 'CC41E',\n",
       " 'CC41F',\n",
       " 'CC41G',\n",
       " 'CC41H',\n",
       " 'CC41I',\n",
       " 'CC41J',\n",
       " 'CC41K',\n",
       " 'CC41L',\n",
       " 'CC41M',\n",
       " 'CC41N',\n",
       " 'CC43',\n",
       " 'CC44',\n",
       " 'DD43',\n",
       " 'DD44',\n",
       " 'DD45',\n",
       " 'EE42',\n",
       " 'EE45',\n",
       " 'EE46',\n",
       " 'EE47',\n",
       " 'RR41',\n",
       " 'RR41REL',\n",
       " 'CAREALZ4',\n",
       " 'CAREBED4',\n",
       " 'CAREILL4',\n",
       " 'CAREOTH4',\n",
       " 'CAREDK4',\n",
       " 'CAREREF4',\n",
       " 'RR41D',\n",
       " 'RR42',\n",
       " 'RR43A',\n",
       " 'RR43B',\n",
       " 'RR43C',\n",
       " 'RR43D',\n",
       " 'RR43E',\n",
       " 'RR44HRS',\n",
       " 'RR44LT',\n",
       " 'DKRR44',\n",
       " 'RR45A',\n",
       " 'RR45B',\n",
       " 'RR45C',\n",
       " 'RR45D',\n",
       " 'RR45E',\n",
       " 'RR45F',\n",
       " 'RR45G',\n",
       " 'RR45H',\n",
       " 'RR45I',\n",
       " 'RR45J',\n",
       " 'RR45K',\n",
       " 'RR45L',\n",
       " 'RR45M',\n",
       " 'RR45N',\n",
       " 'RR45O',\n",
       " 'RR45P',\n",
       " 'RR45Q',\n",
       " 'RR45R',\n",
       " 'RR45S',\n",
       " 'RR45T',\n",
       " 'RR45U',\n",
       " 'RR45V',\n",
       " 'HHA4',\n",
       " 'HHB4',\n",
       " 'HHC4',\n",
       " 'HHD4',\n",
       " 'HH41',\n",
       " 'NOHH41',\n",
       " 'HH42',\n",
       " 'NOHH42',\n",
       " 'HH43',\n",
       " 'NOHH43',\n",
       " 'LEGSTND4',\n",
       " 'NOLEG4',\n",
       " 'HH5A4',\n",
       " 'UNSFSTN4',\n",
       " 'UNSFBAC4',\n",
       " 'UNSFLEG4',\n",
       " 'UNSFKNE4',\n",
       " 'UNSFDIZ4',\n",
       " 'UNSFEAR4',\n",
       " 'UNSFART4',\n",
       " 'UNSFDK4',\n",
       " 'UNSFREF4',\n",
       " 'UNSFOTH4',\n",
       " 'HH5D4',\n",
       " 'HH5C4',\n",
       " 'HH5F4',\n",
       " 'HH5G4',\n",
       " 'HH6A4',\n",
       " 'HH6B4',\n",
       " 'HH6C4',\n",
       " 'HH6D4',\n",
       " 'HH10A4',\n",
       " 'HH10B4',\n",
       " 'HH10C4',\n",
       " 'HH10D4',\n",
       " 'HH10E4',\n",
       " 'HH12A4',\n",
       " 'HH12B4',\n",
       " 'HH7A4',\n",
       " 'HH7B41',\n",
       " 'NOHH7B41',\n",
       " 'HH7B42',\n",
       " 'NOHH7B42',\n",
       " 'HH7C4',\n",
       " 'GRIPSCL4',\n",
       " 'BAL4',\n",
       " 'DOBAL4',\n",
       " 'SIT4',\n",
       " 'DOSIT4',\n",
       " 'WALK4',\n",
       " 'DOWALK4',\n",
       " 'TOTPOMA4',\n",
       " 'POMACAT4',\n",
       " 'BAL4IMP',\n",
       " 'DOBAL4I',\n",
       " 'SIT4IMP',\n",
       " 'DOSIT4I',\n",
       " 'WALK4IMP',\n",
       " 'DOWALK4I',\n",
       " 'TOTPOM4I',\n",
       " 'POMCAT4I',\n",
       " 'II1B4',\n",
       " 'NOII1B4',\n",
       " 'II1C4',\n",
       " 'BMI4',\n",
       " 'KK42',\n",
       " 'NOKK42',\n",
       " 'VISITMD4',\n",
       " 'CC41A',\n",
       " 'KK43',\n",
       " 'KK45A',\n",
       " 'KK45B',\n",
       " 'KK45C',\n",
       " 'KK45E',\n",
       " 'KK45F',\n",
       " 'KK45H',\n",
       " 'KK45I2',\n",
       " 'KK45J',\n",
       " 'LL45A',\n",
       " 'LL45B',\n",
       " 'HERB41A',\n",
       " 'HERB41B',\n",
       " 'HERB41C',\n",
       " 'HERB41D',\n",
       " 'HERB41E',\n",
       " 'HERB41F',\n",
       " 'NHERBS4',\n",
       " 'NONHERB4',\n",
       " 'HERB_41',\n",
       " 'HERBE_41',\n",
       " 'RHERB_41',\n",
       " 'HERB_42',\n",
       " 'HERBE_42',\n",
       " 'RHERB_42',\n",
       " 'HERB_43',\n",
       " 'HERBE_43',\n",
       " 'RHERB_43',\n",
       " 'HERB46A',\n",
       " 'HERB46B',\n",
       " 'HERB46C',\n",
       " 'HERB46D',\n",
       " 'HERB47',\n",
       " 'HERB48',\n",
       " 'MM49A',\n",
       " 'MM49B',\n",
       " 'MM49C',\n",
       " 'MM49D',\n",
       " 'MM49E',\n",
       " 'OO412',\n",
       " 'OO41',\n",
       " 'OO42',\n",
       " 'OO43',\n",
       " 'OO44',\n",
       " 'OO45',\n",
       " 'OO47',\n",
       " 'OO48A',\n",
       " 'OO48B',\n",
       " 'OO48C',\n",
       " 'OO48D',\n",
       " 'OO48E',\n",
       " 'OO48F',\n",
       " 'OO48G',\n",
       " 'OO49A',\n",
       " 'OO49LANG',\n",
       " 'PRXRILL4',\n",
       " 'PRXDEAF4',\n",
       " 'PRXAWAY4',\n",
       " 'PRXMENT4',\n",
       " 'PRXNONH4',\n",
       " 'PROXOTH4']"
      ]
     },
     "execution_count": 7,
     "metadata": {},
     "output_type": "execute_result"
    }
   ],
   "source": [
    "list(Pro2)"
   ]
  },
  {
   "cell_type": "code",
   "execution_count": 8,
   "metadata": {},
   "outputs": [
    {
     "name": "stdout",
     "output_type": "stream",
     "text": [
      "    Q_NO  PSU CESDTOT4  SEX4  TALK4 SEEMON4 NKIDS4  COUNTON4  AGE4  MARSTAT4  \\\n",
      "0  10001  281       20     2      1       2      3         1    77         4   \n",
      "1  10002  166        6     2      1       2      4         1    80         4   \n",
      "2  10008  180        5     2      1       4      4         1    77         4   \n",
      "3  10009  151        4     1      1       2     11         1    78         1   \n",
      "4  10010  151        6     2      8       1      1         1    75         4   \n",
      "\n",
      "   LL45A  LL45B  EE42  EE46  EE45  EE47 TOTPOMA4 POMACAT4 TOTMMSE4  \n",
      "0      3      2     3     2     2     4        7        2       21  \n",
      "1      4      2     1     3     4     4        6        2       28  \n",
      "2      4      2     4     2     2     2        8        2       20  \n",
      "3      2      2     3     3     2     2        9        3       22  \n",
      "4      3      2     5     2     1     2       10        3        9  \n",
      "       Q_NO  PSU CESDTOT4  SEX4  TALK4 SEEMON4 NKIDS4  COUNTON4  AGE4  \\\n",
      "1677  20272  255        1     2      1       3      3         1    83   \n",
      "1678  20273  255        9     1      1       1      1         1    93   \n",
      "1679  20274  255        6     2      1       1      1         1    80   \n",
      "1680  20275  225        0     2      1       1      2         1    73   \n",
      "1681  20281  159        3     2      1              3         1    74   \n",
      "\n",
      "      MARSTAT4  LL45A  LL45B  EE42  EE46  EE45  EE47 TOTPOMA4 POMACAT4  \\\n",
      "1677         1      1      2     4     1     1     1        0        0   \n",
      "1678         1      1      3     4     2     2     1        0        0   \n",
      "1679         1      1      3     4     1     1     1        4        1   \n",
      "1680         4      3      1     3     3     3     3       11        3   \n",
      "1681         4      3      1     4     2     3     2        3        1   \n",
      "\n",
      "     TOTMMSE4  \n",
      "1677       30  \n",
      "1678       21  \n",
      "1679       23  \n",
      "1680       29  \n",
      "1681       18  \n"
     ]
    },
    {
     "data": {
      "text/plain": [
       "(1682, 19)"
      ]
     },
     "execution_count": 8,
     "metadata": {},
     "output_type": "execute_result"
    }
   ],
   "source": [
    "## We see above that the DataFrame has 1682 rows and 430 columns\n",
    "##This data frame has way too many variables (i.e., columns) so I have to take a subset of the variables that I want to use. \n",
    "##To take a subset of the data frame, I use the function 'select()'. The variables I am keeping are as coded as follows:\n",
    "\n",
    "subpro2 = Pro2[['Q_NO', 'PSU', 'CESDTOT4','SEX4','TALK4','SEEMON4','NKIDS4','COUNTON4','AGE4','MARSTAT4','LL45A','LL45B','EE42','EE46','EE45','EE47','TOTPOMA4','POMACAT4','TOTMMSE4']]\n",
    "print(subpro2.head())\n",
    "print(subpro2.tail())\n",
    "subpro2.shape\n"
   ]
  },
  {
   "cell_type": "code",
   "execution_count": 9,
   "metadata": {},
   "outputs": [
    {
     "name": "stderr",
     "output_type": "stream",
     "text": [
      "C:\\Users\\Juan Nunez\\Anaconda3\\lib\\site-packages\\pandas\\core\\frame.py:3778: SettingWithCopyWarning: \n",
      "A value is trying to be set on a copy of a slice from a DataFrame\n",
      "\n",
      "See the caveats in the documentation: http://pandas.pydata.org/pandas-docs/stable/indexing.html#indexing-view-versus-copy\n",
      "  return super(DataFrame, self).rename(**kwargs)\n"
     ]
    },
    {
     "data": {
      "text/html": [
       "<div>\n",
       "<style scoped>\n",
       "    .dataframe tbody tr th:only-of-type {\n",
       "        vertical-align: middle;\n",
       "    }\n",
       "\n",
       "    .dataframe tbody tr th {\n",
       "        vertical-align: top;\n",
       "    }\n",
       "\n",
       "    .dataframe thead th {\n",
       "        text-align: right;\n",
       "    }\n",
       "</style>\n",
       "<table border=\"1\" class=\"dataframe\">\n",
       "  <thead>\n",
       "    <tr style=\"text-align: right;\">\n",
       "      <th></th>\n",
       "      <th>ID</th>\n",
       "      <th>PSU</th>\n",
       "      <th>DEP4</th>\n",
       "      <th>SEX4</th>\n",
       "      <th>TALK4</th>\n",
       "      <th>SEEKIDS4</th>\n",
       "      <th>NKIDS4</th>\n",
       "      <th>COUNTON4</th>\n",
       "      <th>AGE4</th>\n",
       "      <th>MARSTAT4</th>\n",
       "      <th>MONEYBILLS4</th>\n",
       "      <th>MONEYLEFT4</th>\n",
       "      <th>RELIGPART4</th>\n",
       "      <th>RELIGEXTE4</th>\n",
       "      <th>RELIGDEAL4</th>\n",
       "      <th>RELIGPRAY4</th>\n",
       "      <th>TOTPOMA4</th>\n",
       "      <th>POMACAT4</th>\n",
       "      <th>TOTMMSE4</th>\n",
       "    </tr>\n",
       "  </thead>\n",
       "  <tbody>\n",
       "    <tr>\n",
       "      <th>0</th>\n",
       "      <td>10001</td>\n",
       "      <td>281</td>\n",
       "      <td>20</td>\n",
       "      <td>2</td>\n",
       "      <td>1</td>\n",
       "      <td>2</td>\n",
       "      <td>3</td>\n",
       "      <td>1</td>\n",
       "      <td>77</td>\n",
       "      <td>4</td>\n",
       "      <td>3</td>\n",
       "      <td>2</td>\n",
       "      <td>3</td>\n",
       "      <td>2</td>\n",
       "      <td>2</td>\n",
       "      <td>4</td>\n",
       "      <td>7</td>\n",
       "      <td>2</td>\n",
       "      <td>21</td>\n",
       "    </tr>\n",
       "    <tr>\n",
       "      <th>1</th>\n",
       "      <td>10002</td>\n",
       "      <td>166</td>\n",
       "      <td>6</td>\n",
       "      <td>2</td>\n",
       "      <td>1</td>\n",
       "      <td>2</td>\n",
       "      <td>4</td>\n",
       "      <td>1</td>\n",
       "      <td>80</td>\n",
       "      <td>4</td>\n",
       "      <td>4</td>\n",
       "      <td>2</td>\n",
       "      <td>1</td>\n",
       "      <td>3</td>\n",
       "      <td>4</td>\n",
       "      <td>4</td>\n",
       "      <td>6</td>\n",
       "      <td>2</td>\n",
       "      <td>28</td>\n",
       "    </tr>\n",
       "    <tr>\n",
       "      <th>2</th>\n",
       "      <td>10008</td>\n",
       "      <td>180</td>\n",
       "      <td>5</td>\n",
       "      <td>2</td>\n",
       "      <td>1</td>\n",
       "      <td>4</td>\n",
       "      <td>4</td>\n",
       "      <td>1</td>\n",
       "      <td>77</td>\n",
       "      <td>4</td>\n",
       "      <td>4</td>\n",
       "      <td>2</td>\n",
       "      <td>4</td>\n",
       "      <td>2</td>\n",
       "      <td>2</td>\n",
       "      <td>2</td>\n",
       "      <td>8</td>\n",
       "      <td>2</td>\n",
       "      <td>20</td>\n",
       "    </tr>\n",
       "    <tr>\n",
       "      <th>3</th>\n",
       "      <td>10009</td>\n",
       "      <td>151</td>\n",
       "      <td>4</td>\n",
       "      <td>1</td>\n",
       "      <td>1</td>\n",
       "      <td>2</td>\n",
       "      <td>11</td>\n",
       "      <td>1</td>\n",
       "      <td>78</td>\n",
       "      <td>1</td>\n",
       "      <td>2</td>\n",
       "      <td>2</td>\n",
       "      <td>3</td>\n",
       "      <td>3</td>\n",
       "      <td>2</td>\n",
       "      <td>2</td>\n",
       "      <td>9</td>\n",
       "      <td>3</td>\n",
       "      <td>22</td>\n",
       "    </tr>\n",
       "    <tr>\n",
       "      <th>4</th>\n",
       "      <td>10010</td>\n",
       "      <td>151</td>\n",
       "      <td>6</td>\n",
       "      <td>2</td>\n",
       "      <td>8</td>\n",
       "      <td>1</td>\n",
       "      <td>1</td>\n",
       "      <td>1</td>\n",
       "      <td>75</td>\n",
       "      <td>4</td>\n",
       "      <td>3</td>\n",
       "      <td>2</td>\n",
       "      <td>5</td>\n",
       "      <td>2</td>\n",
       "      <td>1</td>\n",
       "      <td>2</td>\n",
       "      <td>10</td>\n",
       "      <td>3</td>\n",
       "      <td>9</td>\n",
       "    </tr>\n",
       "  </tbody>\n",
       "</table>\n",
       "</div>"
      ],
      "text/plain": [
       "      ID  PSU DEP4  SEX4  TALK4 SEEKIDS4 NKIDS4  COUNTON4  AGE4  MARSTAT4  \\\n",
       "0  10001  281   20     2      1        2      3         1    77         4   \n",
       "1  10002  166    6     2      1        2      4         1    80         4   \n",
       "2  10008  180    5     2      1        4      4         1    77         4   \n",
       "3  10009  151    4     1      1        2     11         1    78         1   \n",
       "4  10010  151    6     2      8        1      1         1    75         4   \n",
       "\n",
       "   MONEYBILLS4  MONEYLEFT4  RELIGPART4  RELIGEXTE4  RELIGDEAL4  RELIGPRAY4  \\\n",
       "0            3           2           3           2           2           4   \n",
       "1            4           2           1           3           4           4   \n",
       "2            4           2           4           2           2           2   \n",
       "3            2           2           3           3           2           2   \n",
       "4            3           2           5           2           1           2   \n",
       "\n",
       "  TOTPOMA4 POMACAT4 TOTMMSE4  \n",
       "0        7        2       21  \n",
       "1        6        2       28  \n",
       "2        8        2       20  \n",
       "3        9        3       22  \n",
       "4       10        3        9  "
      ]
     },
     "execution_count": 9,
     "metadata": {},
     "output_type": "execute_result"
    }
   ],
   "source": [
    "## I rename the columns below\n",
    "subpro2.rename(columns={'Q_NO': 'ID', 'CESDTOT4': 'DEP4', 'SEEMON4' : 'SEEKIDS4', 'LL45A' : 'MONEYBILLS4', 'LL45B' : 'MONEYLEFT4', 'EE42' :'RELIGPART4', 'EE47': 'RELIGPRAY4', 'EE45' : 'RELIGDEAL4', 'EE46' : 'RELIGEXTE4' }, inplace=True)\n",
    "subpro2.head()"
   ]
  },
  {
   "cell_type": "code",
   "execution_count": 10,
   "metadata": {},
   "outputs": [
    {
     "data": {
      "text/html": [
       "<div>\n",
       "<style scoped>\n",
       "    .dataframe tbody tr th:only-of-type {\n",
       "        vertical-align: middle;\n",
       "    }\n",
       "\n",
       "    .dataframe tbody tr th {\n",
       "        vertical-align: top;\n",
       "    }\n",
       "\n",
       "    .dataframe thead th {\n",
       "        text-align: right;\n",
       "    }\n",
       "</style>\n",
       "<table border=\"1\" class=\"dataframe\">\n",
       "  <thead>\n",
       "    <tr style=\"text-align: right;\">\n",
       "      <th></th>\n",
       "      <th>PSU</th>\n",
       "      <th>DEP4</th>\n",
       "      <th>SEX4</th>\n",
       "      <th>TALK4</th>\n",
       "      <th>SEEKIDS4</th>\n",
       "      <th>NKIDS4</th>\n",
       "      <th>COUNTON4</th>\n",
       "      <th>AGE4</th>\n",
       "      <th>MARSTAT4</th>\n",
       "      <th>MONEYBILLS4</th>\n",
       "      <th>MONEYLEFT4</th>\n",
       "      <th>RELIGPART4</th>\n",
       "      <th>RELIGEXTE4</th>\n",
       "      <th>RELIGDEAL4</th>\n",
       "      <th>RELIGPRAY4</th>\n",
       "      <th>TOTPOMA4</th>\n",
       "      <th>POMACAT4</th>\n",
       "      <th>TOTMMSE4</th>\n",
       "    </tr>\n",
       "    <tr>\n",
       "      <th>ID</th>\n",
       "      <th></th>\n",
       "      <th></th>\n",
       "      <th></th>\n",
       "      <th></th>\n",
       "      <th></th>\n",
       "      <th></th>\n",
       "      <th></th>\n",
       "      <th></th>\n",
       "      <th></th>\n",
       "      <th></th>\n",
       "      <th></th>\n",
       "      <th></th>\n",
       "      <th></th>\n",
       "      <th></th>\n",
       "      <th></th>\n",
       "      <th></th>\n",
       "      <th></th>\n",
       "      <th></th>\n",
       "    </tr>\n",
       "  </thead>\n",
       "  <tbody>\n",
       "    <tr>\n",
       "      <th>10001</th>\n",
       "      <td>281</td>\n",
       "      <td>20</td>\n",
       "      <td>2</td>\n",
       "      <td>1</td>\n",
       "      <td>2</td>\n",
       "      <td>3</td>\n",
       "      <td>1</td>\n",
       "      <td>77</td>\n",
       "      <td>4</td>\n",
       "      <td>3</td>\n",
       "      <td>2</td>\n",
       "      <td>3</td>\n",
       "      <td>2</td>\n",
       "      <td>2</td>\n",
       "      <td>4</td>\n",
       "      <td>7</td>\n",
       "      <td>2</td>\n",
       "      <td>21</td>\n",
       "    </tr>\n",
       "    <tr>\n",
       "      <th>10002</th>\n",
       "      <td>166</td>\n",
       "      <td>6</td>\n",
       "      <td>2</td>\n",
       "      <td>1</td>\n",
       "      <td>2</td>\n",
       "      <td>4</td>\n",
       "      <td>1</td>\n",
       "      <td>80</td>\n",
       "      <td>4</td>\n",
       "      <td>4</td>\n",
       "      <td>2</td>\n",
       "      <td>1</td>\n",
       "      <td>3</td>\n",
       "      <td>4</td>\n",
       "      <td>4</td>\n",
       "      <td>6</td>\n",
       "      <td>2</td>\n",
       "      <td>28</td>\n",
       "    </tr>\n",
       "    <tr>\n",
       "      <th>10008</th>\n",
       "      <td>180</td>\n",
       "      <td>5</td>\n",
       "      <td>2</td>\n",
       "      <td>1</td>\n",
       "      <td>4</td>\n",
       "      <td>4</td>\n",
       "      <td>1</td>\n",
       "      <td>77</td>\n",
       "      <td>4</td>\n",
       "      <td>4</td>\n",
       "      <td>2</td>\n",
       "      <td>4</td>\n",
       "      <td>2</td>\n",
       "      <td>2</td>\n",
       "      <td>2</td>\n",
       "      <td>8</td>\n",
       "      <td>2</td>\n",
       "      <td>20</td>\n",
       "    </tr>\n",
       "    <tr>\n",
       "      <th>10009</th>\n",
       "      <td>151</td>\n",
       "      <td>4</td>\n",
       "      <td>1</td>\n",
       "      <td>1</td>\n",
       "      <td>2</td>\n",
       "      <td>11</td>\n",
       "      <td>1</td>\n",
       "      <td>78</td>\n",
       "      <td>1</td>\n",
       "      <td>2</td>\n",
       "      <td>2</td>\n",
       "      <td>3</td>\n",
       "      <td>3</td>\n",
       "      <td>2</td>\n",
       "      <td>2</td>\n",
       "      <td>9</td>\n",
       "      <td>3</td>\n",
       "      <td>22</td>\n",
       "    </tr>\n",
       "    <tr>\n",
       "      <th>10010</th>\n",
       "      <td>151</td>\n",
       "      <td>6</td>\n",
       "      <td>2</td>\n",
       "      <td>8</td>\n",
       "      <td>1</td>\n",
       "      <td>1</td>\n",
       "      <td>1</td>\n",
       "      <td>75</td>\n",
       "      <td>4</td>\n",
       "      <td>3</td>\n",
       "      <td>2</td>\n",
       "      <td>5</td>\n",
       "      <td>2</td>\n",
       "      <td>1</td>\n",
       "      <td>2</td>\n",
       "      <td>10</td>\n",
       "      <td>3</td>\n",
       "      <td>9</td>\n",
       "    </tr>\n",
       "  </tbody>\n",
       "</table>\n",
       "</div>"
      ],
      "text/plain": [
       "       PSU DEP4  SEX4  TALK4 SEEKIDS4 NKIDS4  COUNTON4  AGE4  MARSTAT4  \\\n",
       "ID                                                                       \n",
       "10001  281   20     2      1        2      3         1    77         4   \n",
       "10002  166    6     2      1        2      4         1    80         4   \n",
       "10008  180    5     2      1        4      4         1    77         4   \n",
       "10009  151    4     1      1        2     11         1    78         1   \n",
       "10010  151    6     2      8        1      1         1    75         4   \n",
       "\n",
       "       MONEYBILLS4  MONEYLEFT4  RELIGPART4  RELIGEXTE4  RELIGDEAL4  \\\n",
       "ID                                                                   \n",
       "10001            3           2           3           2           2   \n",
       "10002            4           2           1           3           4   \n",
       "10008            4           2           4           2           2   \n",
       "10009            2           2           3           3           2   \n",
       "10010            3           2           5           2           1   \n",
       "\n",
       "       RELIGPRAY4 TOTPOMA4 POMACAT4 TOTMMSE4  \n",
       "ID                                            \n",
       "10001           4        7        2       21  \n",
       "10002           4        6        2       28  \n",
       "10008           2        8        2       20  \n",
       "10009           2        9        3       22  \n",
       "10010           2       10        3        9  "
      ]
     },
     "execution_count": 10,
     "metadata": {},
     "output_type": "execute_result"
    }
   ],
   "source": [
    "## Setting the first column as the index for the rows\n",
    "    \n",
    "subpro2 = subpro2.set_index('ID')\n",
    "subpro2.head()"
   ]
  },
  {
   "cell_type": "code",
   "execution_count": 11,
   "metadata": {},
   "outputs": [
    {
     "name": "stdout",
     "output_type": "stream",
     "text": [
      "               PSU         SEX4        TALK4     COUNTON4         AGE4  \\\n",
      "count  1682.000000  1682.000000  1682.000000  1682.000000  1682.000000   \n",
      "mean    194.473841     1.614744     1.800238     1.778835    79.511891   \n",
      "std      80.271836     0.486800     2.027016     2.007382     5.695227   \n",
      "min       2.000000     1.000000     1.000000     1.000000    72.000000   \n",
      "25%     151.000000     1.000000     1.000000     1.000000    75.000000   \n",
      "50%     207.000000     2.000000     1.000000     1.000000    78.000000   \n",
      "75%     256.000000     2.000000     2.000000     2.000000    83.000000   \n",
      "max     300.000000     2.000000     9.000000     9.000000   105.000000   \n",
      "\n",
      "          MARSTAT4  MONEYBILLS4   MONEYLEFT4   RELIGPART4   RELIGEXTE4  \\\n",
      "count  1682.000000  1682.000000  1682.000000  1682.000000  1682.000000   \n",
      "mean      2.587396     2.882283     2.504162     3.467301     2.517241   \n",
      "std       1.513307     2.020816     2.018132     1.859858     2.143291   \n",
      "min       1.000000     1.000000     1.000000     1.000000     1.000000   \n",
      "25%       1.000000     2.000000     2.000000     2.000000     1.000000   \n",
      "50%       3.000000     2.000000     2.000000     4.000000     2.000000   \n",
      "75%       4.000000     3.000000     2.000000     4.000000     3.000000   \n",
      "max       5.000000     9.000000     9.000000     9.000000     9.000000   \n",
      "\n",
      "        RELIGDEAL4   RELIGPRAY4  \n",
      "count  1682.000000  1682.000000  \n",
      "mean      3.439952     2.368609  \n",
      "std       2.518278     2.221717  \n",
      "min       1.000000     1.000000  \n",
      "25%       2.000000     1.000000  \n",
      "50%       3.000000     2.000000  \n",
      "75%       4.000000     2.000000  \n",
      "max       9.000000     9.000000  \n"
     ]
    }
   ],
   "source": [
    "## Let's look at some descriptive statistics\n",
    "print(subpro2.describe())"
   ]
  },
  {
   "cell_type": "code",
   "execution_count": 12,
   "metadata": {},
   "outputs": [
    {
     "data": {
      "text/plain": [
       "ID\n",
       "10001    20\n",
       "10002     6\n",
       "10008     5\n",
       "10009     4\n",
       "10010     6\n",
       "10015     9\n",
       "10018     7\n",
       "10019    14\n",
       "10021      \n",
       "10022    29\n",
       "10023     0\n",
       "10024    21\n",
       "10025     5\n",
       "10030    15\n",
       "10033     0\n",
       "10034    17\n",
       "10035     5\n",
       "10036     4\n",
       "10037    10\n",
       "10038     6\n",
       "10040      \n",
       "10041      \n",
       "10042    28\n",
       "10045    13\n",
       "10048    19\n",
       "10049     6\n",
       "10052    11\n",
       "10053    12\n",
       "10056     2\n",
       "10057    11\n",
       "         ..\n",
       "20224    16\n",
       "20225     7\n",
       "20227     8\n",
       "20228     0\n",
       "20230      \n",
       "20232     2\n",
       "20233     0\n",
       "20234     0\n",
       "20236     3\n",
       "20237      \n",
       "20240     0\n",
       "20241     6\n",
       "20242     5\n",
       "20247      \n",
       "20249     3\n",
       "20256     7\n",
       "20257    13\n",
       "20259     7\n",
       "20260     2\n",
       "20264     2\n",
       "20266    17\n",
       "20268    12\n",
       "20269    11\n",
       "20270     4\n",
       "20271     0\n",
       "20272     1\n",
       "20273     9\n",
       "20274     6\n",
       "20275     0\n",
       "20281     3\n",
       "Name: DEP4, Length: 1682, dtype: object"
      ]
     },
     "execution_count": 12,
     "metadata": {},
     "output_type": "execute_result"
    }
   ],
   "source": [
    "## Let's see if there are any missing values in DEP4.\n",
    "DEP4 = subpro2['DEP4']\n",
    "DEP4"
   ]
  },
  {
   "cell_type": "code",
   "execution_count": 13,
   "metadata": {},
   "outputs": [],
   "source": [
    "## Now I replace the blanks with Nan\n",
    "subpro2 = subpro2.replace(' ',np.NaN)"
   ]
  },
  {
   "cell_type": "code",
   "execution_count": 14,
   "metadata": {},
   "outputs": [
    {
     "data": {
      "text/plain": [
       "ID\n",
       "10001     20\n",
       "10002      6\n",
       "10008      5\n",
       "10009      4\n",
       "10010      6\n",
       "10015      9\n",
       "10018      7\n",
       "10019     14\n",
       "10021    NaN\n",
       "10022     29\n",
       "10023      0\n",
       "10024     21\n",
       "10025      5\n",
       "10030     15\n",
       "10033      0\n",
       "10034     17\n",
       "10035      5\n",
       "10036      4\n",
       "10037     10\n",
       "10038      6\n",
       "10040    NaN\n",
       "10041    NaN\n",
       "10042     28\n",
       "10045     13\n",
       "10048     19\n",
       "10049      6\n",
       "10052     11\n",
       "10053     12\n",
       "10056      2\n",
       "10057     11\n",
       "        ... \n",
       "20224     16\n",
       "20225      7\n",
       "20227      8\n",
       "20228      0\n",
       "20230    NaN\n",
       "20232      2\n",
       "20233      0\n",
       "20234      0\n",
       "20236      3\n",
       "20237    NaN\n",
       "20240      0\n",
       "20241      6\n",
       "20242      5\n",
       "20247    NaN\n",
       "20249      3\n",
       "20256      7\n",
       "20257     13\n",
       "20259      7\n",
       "20260      2\n",
       "20264      2\n",
       "20266     17\n",
       "20268     12\n",
       "20269     11\n",
       "20270      4\n",
       "20271      0\n",
       "20272      1\n",
       "20273      9\n",
       "20274      6\n",
       "20275      0\n",
       "20281      3\n",
       "Name: DEP4, Length: 1682, dtype: object"
      ]
     },
     "execution_count": 14,
     "metadata": {},
     "output_type": "execute_result"
    }
   ],
   "source": [
    "## Let's see DEP4 again.\n",
    "DEP4 = subpro2['DEP4']\n",
    "DEP4"
   ]
  },
  {
   "cell_type": "code",
   "execution_count": 15,
   "metadata": {},
   "outputs": [
    {
     "data": {
      "text/plain": [
       "ID\n",
       "10001    20\n",
       "10002     6\n",
       "10008     5\n",
       "10009     4\n",
       "10010     6\n",
       "10015     9\n",
       "10018     7\n",
       "10019    14\n",
       "10022    29\n",
       "10023     0\n",
       "10024    21\n",
       "10025     5\n",
       "10030    15\n",
       "10033     0\n",
       "10034    17\n",
       "10035     5\n",
       "10036     4\n",
       "10037    10\n",
       "10038     6\n",
       "10042    28\n",
       "10045    13\n",
       "10048    19\n",
       "10049     6\n",
       "10052    11\n",
       "10053    12\n",
       "10056     2\n",
       "10057    11\n",
       "10058     4\n",
       "10059    13\n",
       "10060    11\n",
       "         ..\n",
       "20216     7\n",
       "20217    13\n",
       "20222    13\n",
       "20224    16\n",
       "20225     7\n",
       "20227     8\n",
       "20228     0\n",
       "20232     2\n",
       "20233     0\n",
       "20234     0\n",
       "20236     3\n",
       "20240     0\n",
       "20241     6\n",
       "20242     5\n",
       "20249     3\n",
       "20256     7\n",
       "20257    13\n",
       "20259     7\n",
       "20260     2\n",
       "20264     2\n",
       "20266    17\n",
       "20268    12\n",
       "20269    11\n",
       "20270     4\n",
       "20271     0\n",
       "20272     1\n",
       "20273     9\n",
       "20274     6\n",
       "20275     0\n",
       "20281     3\n",
       "Name: DEP4, Length: 1562, dtype: object"
      ]
     },
     "execution_count": 15,
     "metadata": {},
     "output_type": "execute_result"
    }
   ],
   "source": [
    "## How many row are not null in DEP4?\n",
    "DEP4[DEP4.notnull()]"
   ]
  },
  {
   "cell_type": "code",
   "execution_count": 16,
   "metadata": {},
   "outputs": [
    {
     "data": {
      "text/plain": [
       "4    653\n",
       "2    278\n",
       "1    254\n",
       "3    238\n",
       "5    158\n",
       "9     98\n",
       "8      3\n",
       "Name: RELIGPART4, dtype: int64"
      ]
     },
     "execution_count": 16,
     "metadata": {},
     "output_type": "execute_result"
    }
   ],
   "source": [
    "## Let's see the values in RELIGPART4\n",
    "subpro2['RELIGPART4'].value_counts()"
   ]
  },
  {
   "cell_type": "code",
   "execution_count": 17,
   "metadata": {},
   "outputs": [],
   "source": [
    "## I am recoding the religion variables\n",
    "subpro2.loc[(subpro2['RELIGPART4'] == 9), 'RELIGPART4'] = np.NaN\n",
    "subpro2.loc[(subpro2['RELIGPART4'] == 8), 'RELIGPART4'] = np.NaN"
   ]
  },
  {
   "cell_type": "code",
   "execution_count": 18,
   "metadata": {},
   "outputs": [
    {
     "data": {
      "text/plain": [
       "4.0    653\n",
       "2.0    278\n",
       "1.0    254\n",
       "3.0    238\n",
       "5.0    158\n",
       "Name: RELIGPART4, dtype: int64"
      ]
     },
     "execution_count": 18,
     "metadata": {},
     "output_type": "execute_result"
    }
   ],
   "source": [
    "## Let's see the values in RELIGPART4 again\n",
    "subpro2['RELIGPART4'].value_counts()"
   ]
  },
  {
   "cell_type": "code",
   "execution_count": 19,
   "metadata": {},
   "outputs": [
    {
     "data": {
      "text/plain": [
       "2    777\n",
       "1    482\n",
       "3    248\n",
       "9    142\n",
       "4     22\n",
       "8     11\n",
       "Name: RELIGEXTE4, dtype: int64"
      ]
     },
     "execution_count": 19,
     "metadata": {},
     "output_type": "execute_result"
    }
   ],
   "source": [
    "## Let's see the values in RELIGEXTE4\n",
    "subpro2['RELIGEXTE4'].value_counts()"
   ]
  },
  {
   "cell_type": "code",
   "execution_count": 20,
   "metadata": {},
   "outputs": [],
   "source": [
    "## I am recoding the religion extent\n",
    "subpro2.loc[(subpro2['RELIGEXTE4'] == 9), 'RELIGEXTE4'] = np.NaN"
   ]
  },
  {
   "cell_type": "code",
   "execution_count": 21,
   "metadata": {},
   "outputs": [
    {
     "data": {
      "text/plain": [
       "2.0    777\n",
       "1.0    482\n",
       "3.0    248\n",
       "4.0     22\n",
       "8.0     11\n",
       "Name: RELIGEXTE4, dtype: int64"
      ]
     },
     "execution_count": 21,
     "metadata": {},
     "output_type": "execute_result"
    }
   ],
   "source": [
    "## Let's see the values in RELIGEXTE4 again\n",
    "subpro2['RELIGEXTE4'].value_counts()"
   ]
  },
  {
   "cell_type": "code",
   "execution_count": 22,
   "metadata": {},
   "outputs": [],
   "source": [
    "## I am recoding the religion extent\n",
    "subpro2.loc[(subpro2['RELIGEXTE4'] == 8.0), 'RELIGEXTE4'] = np.NaN"
   ]
  },
  {
   "cell_type": "code",
   "execution_count": 23,
   "metadata": {},
   "outputs": [
    {
     "data": {
      "text/plain": [
       "2.0    777\n",
       "1.0    482\n",
       "3.0    248\n",
       "4.0     22\n",
       "Name: RELIGEXTE4, dtype: int64"
      ]
     },
     "execution_count": 23,
     "metadata": {},
     "output_type": "execute_result"
    }
   ],
   "source": [
    "## Let's see the values in RELIGEXTE4 again\n",
    "subpro2['RELIGEXTE4'].value_counts()"
   ]
  },
  {
   "cell_type": "code",
   "execution_count": 24,
   "metadata": {},
   "outputs": [
    {
     "data": {
      "text/plain": [
       "3    464\n",
       "2    415\n",
       "1    331\n",
       "4    171\n",
       "8    160\n",
       "9    141\n",
       "Name: RELIGDEAL4, dtype: int64"
      ]
     },
     "execution_count": 24,
     "metadata": {},
     "output_type": "execute_result"
    }
   ],
   "source": [
    "## Let's see the values in RELIGDEAL4\n",
    "subpro2['RELIGDEAL4'].value_counts()"
   ]
  },
  {
   "cell_type": "code",
   "execution_count": 25,
   "metadata": {},
   "outputs": [],
   "source": [
    "## I am recoding the religion deal\n",
    "subpro2.loc[(subpro2['RELIGDEAL4'] == 8), 'RELIGDEAL4'] = np.NaN\n",
    "subpro2.loc[(subpro2['RELIGDEAL4'] == 9), 'RELIGDEAL4'] = np.NaN"
   ]
  },
  {
   "cell_type": "code",
   "execution_count": 26,
   "metadata": {},
   "outputs": [
    {
     "data": {
      "text/plain": [
       "3.0    464\n",
       "2.0    415\n",
       "1.0    331\n",
       "4.0    171\n",
       "Name: RELIGDEAL4, dtype: int64"
      ]
     },
     "execution_count": 26,
     "metadata": {},
     "output_type": "execute_result"
    }
   ],
   "source": [
    "## Let's see the values in RELIGDEAL4 again\n",
    "subpro2['RELIGDEAL4'].value_counts()"
   ]
  },
  {
   "cell_type": "code",
   "execution_count": 27,
   "metadata": {},
   "outputs": [
    {
     "data": {
      "text/plain": [
       "1    745\n",
       "2    588\n",
       "9    139\n",
       "3     93\n",
       "4     73\n",
       "5     37\n",
       "8      7\n",
       "Name: RELIGPRAY4, dtype: int64"
      ]
     },
     "execution_count": 27,
     "metadata": {},
     "output_type": "execute_result"
    }
   ],
   "source": [
    "## Let's see the values in RELIGPRAY4\n",
    "subpro2['RELIGPRAY4'].value_counts()"
   ]
  },
  {
   "cell_type": "code",
   "execution_count": 28,
   "metadata": {},
   "outputs": [],
   "source": [
    "## I am recoding the religion pray\n",
    "subpro2.loc[(subpro2['RELIGPRAY4'] == 8), 'RELIGPRAY4'] = np.NaN\n",
    "subpro2.loc[(subpro2['RELIGPRAY4'] == 9), 'RELIGPRAY4'] = np.NaN"
   ]
  },
  {
   "cell_type": "code",
   "execution_count": 29,
   "metadata": {},
   "outputs": [
    {
     "data": {
      "text/plain": [
       "1.0    745\n",
       "2.0    588\n",
       "3.0     93\n",
       "4.0     73\n",
       "5.0     37\n",
       "Name: RELIGPRAY4, dtype: int64"
      ]
     },
     "execution_count": 29,
     "metadata": {},
     "output_type": "execute_result"
    }
   ],
   "source": [
    "## Let's see the values in RELIGPRAY4 again\n",
    "subpro2['RELIGPRAY4'].value_counts()"
   ]
  },
  {
   "cell_type": "code",
   "execution_count": 30,
   "metadata": {},
   "outputs": [
    {
     "data": {
      "text/plain": [
       "2    624\n",
       "3    367\n",
       "1    313\n",
       "4    239\n",
       "9    118\n",
       "8     21\n",
       "Name: MONEYBILLS4, dtype: int64"
      ]
     },
     "execution_count": 30,
     "metadata": {},
     "output_type": "execute_result"
    }
   ],
   "source": [
    "## Let's see the values in MONEYBILLS\n",
    "subpro2['MONEYBILLS4'].value_counts()"
   ]
  },
  {
   "cell_type": "code",
   "execution_count": 31,
   "metadata": {},
   "outputs": [],
   "source": [
    "## I am recoding the moneybills\n",
    "subpro2.loc[(subpro2['MONEYBILLS4'] == 8), 'MONEYBILLS4'] = np.NaN\n",
    "subpro2.loc[(subpro2['MONEYBILLS4'] == 9), 'MONEYBILLS4'] = np.NaN"
   ]
  },
  {
   "cell_type": "code",
   "execution_count": 32,
   "metadata": {},
   "outputs": [
    {
     "data": {
      "text/plain": [
       "2.0    624\n",
       "3.0    367\n",
       "1.0    313\n",
       "4.0    239\n",
       "Name: MONEYBILLS4, dtype: int64"
      ]
     },
     "execution_count": 32,
     "metadata": {},
     "output_type": "execute_result"
    }
   ],
   "source": [
    "## Let's see the values in MONEYBILLS again\n",
    "subpro2['MONEYBILLS4'].value_counts()"
   ]
  },
  {
   "cell_type": "code",
   "execution_count": 33,
   "metadata": {},
   "outputs": [
    {
     "data": {
      "text/plain": [
       "2    938\n",
       "1    363\n",
       "3    239\n",
       "9    120\n",
       "8     22\n",
       "Name: MONEYLEFT4, dtype: int64"
      ]
     },
     "execution_count": 33,
     "metadata": {},
     "output_type": "execute_result"
    }
   ],
   "source": [
    "## Let's see the values in MONEYLEFT\n",
    "subpro2['MONEYLEFT4'].value_counts()"
   ]
  },
  {
   "cell_type": "code",
   "execution_count": 34,
   "metadata": {},
   "outputs": [],
   "source": [
    "## I am recoding the moneyleft\n",
    "subpro2.loc[(subpro2['MONEYLEFT4'] == 8), 'MONEYLEFT4'] = np.NaN\n",
    "subpro2.loc[(subpro2['MONEYLEFT4'] == 9), 'MONEYLEFT4'] = np.NaN"
   ]
  },
  {
   "cell_type": "code",
   "execution_count": 35,
   "metadata": {},
   "outputs": [
    {
     "data": {
      "text/plain": [
       "2.0    938\n",
       "1.0    363\n",
       "3.0    239\n",
       "Name: MONEYLEFT4, dtype: int64"
      ]
     },
     "execution_count": 35,
     "metadata": {},
     "output_type": "execute_result"
    }
   ],
   "source": [
    "## Let's see the values in MONEYLEFT again\n",
    "subpro2['MONEYLEFT4'].value_counts()"
   ]
  },
  {
   "cell_type": "code",
   "execution_count": 36,
   "metadata": {},
   "outputs": [
    {
     "data": {
      "text/plain": [
       "1    1250\n",
       "2     233\n",
       "9     109\n",
       "3      85\n",
       "8       5\n",
       "Name: COUNTON4, dtype: int64"
      ]
     },
     "execution_count": 36,
     "metadata": {},
     "output_type": "execute_result"
    }
   ],
   "source": [
    "## Let's see the values in COUNTON4\n",
    "subpro2['COUNTON4'].value_counts()"
   ]
  },
  {
   "cell_type": "code",
   "execution_count": 37,
   "metadata": {},
   "outputs": [],
   "source": [
    "## I am recoding the COUNTON4\n",
    "subpro2.loc[(subpro2['COUNTON4'] == 8), 'COUNTON4'] = np.NaN\n",
    "subpro2.loc[(subpro2['COUNTON4'] == 9), 'COUNTON4'] = np.NaN"
   ]
  },
  {
   "cell_type": "code",
   "execution_count": 38,
   "metadata": {},
   "outputs": [
    {
     "data": {
      "text/plain": [
       "1.0    1250\n",
       "2.0     233\n",
       "3.0      85\n",
       "Name: COUNTON4, dtype: int64"
      ]
     },
     "execution_count": 38,
     "metadata": {},
     "output_type": "execute_result"
    }
   ],
   "source": [
    "## Let's see the values in COUNTON4 again\n",
    "subpro2['COUNTON4'].value_counts()"
   ]
  },
  {
   "cell_type": "code",
   "execution_count": 39,
   "metadata": {},
   "outputs": [],
   "source": [
    "## Same thing for the variables below\n",
    "subpro2.loc[(subpro2['TALK4'] == 8), 'TALK4'] = np.NaN\n",
    "subpro2.loc[(subpro2['TALK4'] == 9), 'TALK4'] = np.NaN\n",
    "subpro2.loc[(subpro2['MARSTAT4'] == 8), 'MARSTAT4'] = np.NaN\n",
    "subpro2.loc[(subpro2['MARSTAT4'] == 9), 'MARSTAT4'] = np.NaN"
   ]
  },
  {
   "cell_type": "code",
   "execution_count": 40,
   "metadata": {},
   "outputs": [
    {
     "data": {
      "text/plain": [
       "1.0    1234\n",
       "2.0     246\n",
       "3.0      85\n",
       "Name: TALK4, dtype: int64"
      ]
     },
     "execution_count": 40,
     "metadata": {},
     "output_type": "execute_result"
    }
   ],
   "source": [
    "## Let's see the values in TALK4\n",
    "subpro2['TALK4'].value_counts()"
   ]
  },
  {
   "cell_type": "code",
   "execution_count": 41,
   "metadata": {},
   "outputs": [
    {
     "data": {
      "text/plain": [
       "1.0    766\n",
       "4.0    733\n",
       "5.0     74\n",
       "3.0     66\n",
       "2.0     43\n",
       "Name: MARSTAT4, dtype: int64"
      ]
     },
     "execution_count": 41,
     "metadata": {},
     "output_type": "execute_result"
    }
   ],
   "source": [
    "## Let's see the values in MARSTAT4\n",
    "subpro2['MARSTAT4'].value_counts()"
   ]
  },
  {
   "cell_type": "code",
   "execution_count": 42,
   "metadata": {},
   "outputs": [
    {
     "name": "stdout",
     "output_type": "stream",
     "text": [
      "2    1034\n",
      "1     648\n",
      "Name: SEX4, dtype: int64\n",
      "2    1034\n",
      "0     648\n",
      "Name: SEX4, dtype: int64\n",
      "1    1034\n",
      "0     648\n",
      "Name: SEX4, dtype: int64\n"
     ]
    }
   ],
   "source": [
    "## Recoding the SEX dummy\n",
    "print(subpro2['SEX4'].value_counts())\n",
    "subpro2.loc[(subpro2['SEX4'] == 1), 'SEX4'] = 0\n",
    "print(subpro2['SEX4'].value_counts())\n",
    "subpro2.loc[(subpro2['SEX4'] == 2), 'SEX4'] = 1\n",
    "print(subpro2['SEX4'].value_counts())"
   ]
  },
  {
   "cell_type": "code",
   "execution_count": 43,
   "metadata": {},
   "outputs": [
    {
     "name": "stdout",
     "output_type": "stream",
     "text": [
      "2.0    1169\n",
      "1.0     254\n",
      "3.0     158\n",
      "Name: RELIGPART4, dtype: int64\n"
     ]
    }
   ],
   "source": [
    "##Further recoding\n",
    "\n",
    "subpro2.loc[(subpro2['RELIGPART4'] == 3), 'RELIGPART4'] = 2\n",
    "subpro2.loc[(subpro2['RELIGPART4'] == 4), 'RELIGPART4'] = 2\n",
    "subpro2.loc[(subpro2['RELIGPART4'] == 5), 'RELIGPART4'] = 3\n",
    "print(subpro2['RELIGPART4'].value_counts())"
   ]
  },
  {
   "cell_type": "code",
   "execution_count": 44,
   "metadata": {},
   "outputs": [
    {
     "name": "stdout",
     "output_type": "stream",
     "text": [
      "3.0    745\n",
      "2.0    588\n",
      "1.0    203\n",
      "Name: RELIGPRAY4, dtype: int64\n"
     ]
    }
   ],
   "source": [
    "subpro2.loc[(subpro2['RELIGPRAY4'] == 5), 'RELIGPRAY4'] = 4\n",
    "subpro2.loc[(subpro2['RELIGPRAY4'] == 3), 'RELIGPRAY4'] = 4\n",
    "subpro2.loc[(subpro2['RELIGPRAY4'] == 1), 'RELIGPRAY4'] = 3\n",
    "subpro2.loc[(subpro2['RELIGPRAY4'] == 4), 'RELIGPRAY4'] = 1\n",
    "print(subpro2['RELIGPRAY4'].value_counts())\n",
    "\n",
    "##1\"< Once a day\" 2\"About once a day\" 3\"Several times a day\""
   ]
  },
  {
   "cell_type": "code",
   "execution_count": 45,
   "metadata": {},
   "outputs": [
    {
     "name": "stdout",
     "output_type": "stream",
     "text": [
      "2.0    777\n",
      "3.0    482\n",
      "1.0    270\n",
      "Name: RELIGEXTE4, dtype: int64\n"
     ]
    }
   ],
   "source": [
    "subpro2.loc[(subpro2['RELIGEXTE4'] == 3), 'RELIGEXTE4'] = 4\n",
    "subpro2.loc[(subpro2['RELIGEXTE4'] == 1), 'RELIGEXTE4'] = 3\n",
    "subpro2.loc[(subpro2['RELIGEXTE4'] == 4), 'RELIGEXTE4'] = 1\n",
    "print(subpro2['RELIGEXTE4'].value_counts())\n",
    "\n",
    "##  1\"Not very or not at all\" 2\"Somewhat religious\" 3\"Very religious\""
   ]
  },
  {
   "cell_type": "code",
   "execution_count": 46,
   "metadata": {},
   "outputs": [
    {
     "name": "stdout",
     "output_type": "stream",
     "text": [
      "1.0    635\n",
      "2.0    415\n",
      "3.0    331\n",
      "Name: RELIGDEAL4, dtype: int64\n"
     ]
    }
   ],
   "source": [
    "subpro2.loc[(subpro2['RELIGDEAL4'] == 3), 'RELIGDEAL4'] = 4\n",
    "subpro2.loc[(subpro2['RELIGDEAL4'] == 1), 'RELIGDEAL4'] = 3\n",
    "subpro2.loc[(subpro2['RELIGDEAL4'] == 4), 'RELIGDEAL4'] = 1\n",
    "print(subpro2['RELIGDEAL4'].value_counts())\n",
    "\n",
    "## 1\"Not very or not at all\" 2\"Somewhat involved\" 3\"Very involved\""
   ]
  },
  {
   "cell_type": "code",
   "execution_count": 47,
   "metadata": {},
   "outputs": [
    {
     "name": "stdout",
     "output_type": "stream",
     "text": [
      "1.0    1234\n",
      "2.0     246\n",
      "3.0      85\n",
      "Name: TALK4, dtype: int64\n",
      "1.0    1250\n",
      "2.0     233\n",
      "3.0      85\n",
      "Name: COUNTON4, dtype: int64\n",
      "193\n",
      "193\n"
     ]
    }
   ],
   "source": [
    "## Create a dummy for lack of social suppoer\n",
    "print(subpro2['TALK4'].value_counts())\n",
    "print(subpro2['COUNTON4'].value_counts())\n",
    "subpro2.loc[(subpro2['TALK4'] == 1) & (subpro2['COUNTON4'] == 2), 'LOSS4'] = 1\n",
    "subpro2.loc[(subpro2['TALK4'] == 1) & (subpro2['COUNTON4'] == 3), 'LOSS4'] = 1\n",
    "subpro2.loc[(subpro2['TALK4'] == 2) & (subpro2['COUNTON4'] == 1), 'LOSS4'] = 1\n",
    "subpro2.loc[(subpro2['TALK4'] == 2) & (subpro2['COUNTON4'] == 2), 'LOSS4'] = 1\n",
    "subpro2.loc[(subpro2['TALK4'] == 2) & (subpro2['COUNTON4'] == 3), 'LOSS4'] = 1\n",
    "subpro2.loc[(subpro2['TALK4'] == 3) & (subpro2['COUNTON4'] == 1), 'LOSS4'] = 1\n",
    "subpro2.loc[(subpro2['TALK4'] == 3) & (subpro2['COUNTON4'] == 1), 'LOSS4'] = 1\n",
    "subpro2.loc[(subpro2['TALK4'] == 1) & (subpro2['COUNTON4'] == 1), 'LOSS4'] = 0\n",
    "print(subpro2['LOSS4'].isna().sum())\n",
    "subpro2.loc[(subpro2['COUNTON4'] == np.NaN), 'LOSS4'] = np.NaN\n",
    "subpro2.loc[(subpro2['TALK4'] == np.NaN), 'LOSS4'] = np.NaN\n",
    "print(subpro2['LOSS4'].isna().sum())"
   ]
  },
  {
   "cell_type": "code",
   "execution_count": 48,
   "metadata": {},
   "outputs": [
    {
     "name": "stdout",
     "output_type": "stream",
     "text": [
      "PSU              int64\n",
      "DEP4            object\n",
      "SEX4             int64\n",
      "TALK4          float64\n",
      "SEEKIDS4        object\n",
      "NKIDS4          object\n",
      "COUNTON4       float64\n",
      "AGE4             int64\n",
      "MARSTAT4       float64\n",
      "MONEYBILLS4    float64\n",
      "MONEYLEFT4     float64\n",
      "RELIGPART4     float64\n",
      "RELIGEXTE4     float64\n",
      "RELIGDEAL4     float64\n",
      "RELIGPRAY4     float64\n",
      "TOTPOMA4        object\n",
      "POMACAT4        object\n",
      "TOTMMSE4        object\n",
      "LOSS4          float64\n",
      "dtype: object\n",
      "PSU              int64\n",
      "DEP4           float64\n",
      "SEX4             int64\n",
      "TALK4          float64\n",
      "SEEKIDS4       float64\n",
      "NKIDS4         float64\n",
      "COUNTON4       float64\n",
      "AGE4             int64\n",
      "MARSTAT4       float64\n",
      "MONEYBILLS4    float64\n",
      "MONEYLEFT4     float64\n",
      "RELIGPART4     float64\n",
      "RELIGEXTE4     float64\n",
      "RELIGDEAL4     float64\n",
      "RELIGPRAY4     float64\n",
      "TOTPOMA4       float64\n",
      "POMACAT4       float64\n",
      "TOTMMSE4       float64\n",
      "LOSS4          float64\n",
      "dtype: object\n"
     ]
    }
   ],
   "source": [
    "print(subpro2.dtypes)\n",
    "subpro2 = subpro2.apply(pd.to_numeric, errors='coerce')\n",
    "print(subpro2.dtypes)\n"
   ]
  },
  {
   "cell_type": "code",
   "execution_count": 49,
   "metadata": {},
   "outputs": [
    {
     "name": "stdout",
     "output_type": "stream",
     "text": [
      "3.0     211\n",
      "4.0     210\n",
      "2.0     206\n",
      "5.0     199\n",
      "1.0     147\n",
      "7.0     123\n",
      "6.0     119\n",
      "0.0     115\n",
      "8.0     102\n",
      "9.0      76\n",
      "10.0     66\n",
      "12.0     36\n",
      "11.0     33\n",
      "13.0     13\n",
      "18.0      5\n",
      "15.0      4\n",
      "14.0      4\n",
      "16.0      2\n",
      "19.0      1\n",
      "20.0      1\n",
      "Name: NKIDS4, dtype: int64\n"
     ]
    }
   ],
   "source": [
    "print(subpro2['NKIDS4'].value_counts())"
   ]
  },
  {
   "cell_type": "code",
   "execution_count": 50,
   "metadata": {},
   "outputs": [
    {
     "name": "stdout",
     "output_type": "stream",
     "text": [
      "9\n",
      "ID\n",
      "10001    1.0\n",
      "10002    1.0\n",
      "10008    1.0\n",
      "10009    1.0\n",
      "10010    1.0\n",
      "10015    1.0\n",
      "10018    1.0\n",
      "10019    1.0\n",
      "10021    1.0\n",
      "10022    1.0\n",
      "10023    1.0\n",
      "10024    1.0\n",
      "10025    1.0\n",
      "10030    1.0\n",
      "10033    1.0\n",
      "10034    1.0\n",
      "10035    1.0\n",
      "10036    1.0\n",
      "10037    1.0\n",
      "10038    1.0\n",
      "10040    1.0\n",
      "10041    1.0\n",
      "10042    1.0\n",
      "10045    1.0\n",
      "10048    1.0\n",
      "10049    1.0\n",
      "10052    1.0\n",
      "10053    1.0\n",
      "10056    1.0\n",
      "10057    1.0\n",
      "        ... \n",
      "20224    1.0\n",
      "20225    1.0\n",
      "20227    1.0\n",
      "20228    1.0\n",
      "20230    1.0\n",
      "20232    1.0\n",
      "20233    1.0\n",
      "20234    1.0\n",
      "20236    1.0\n",
      "20237    1.0\n",
      "20240    1.0\n",
      "20241    1.0\n",
      "20242    1.0\n",
      "20247    1.0\n",
      "20249    1.0\n",
      "20256    1.0\n",
      "20257    1.0\n",
      "20259    1.0\n",
      "20260    0.0\n",
      "20264    1.0\n",
      "20266    1.0\n",
      "20268    1.0\n",
      "20269    1.0\n",
      "20270    1.0\n",
      "20271    1.0\n",
      "20272    1.0\n",
      "20273    1.0\n",
      "20274    1.0\n",
      "20275    1.0\n",
      "20281    1.0\n",
      "Name: YESKIDS4, Length: 1682, dtype: float64\n",
      "1.0    1558\n",
      "0.0     115\n",
      "Name: YESKIDS4, dtype: int64\n"
     ]
    },
    {
     "data": {
      "text/plain": [
       "9"
      ]
     },
     "execution_count": 50,
     "metadata": {},
     "output_type": "execute_result"
    }
   ],
   "source": [
    "## Create a dummy for having children\n",
    "print(subpro2['NKIDS4'].isna().sum())\n",
    "subpro2.loc[(subpro2['NKIDS4'] > 0.0), 'YESKIDS4'] = 1.0\n",
    "subpro2.loc[(subpro2['NKIDS4'] == 0.0), 'YESKIDS4'] = 0.0\n",
    "subpro2.loc[(subpro2['NKIDS4'] == np.NaN), 'YESKIDS4'] = np.NaN\n",
    "print(subpro2['YESKIDS4'])\n",
    "print(subpro2['YESKIDS4'].value_counts())\n",
    "subpro2['YESKIDS4'].isna().sum()"
   ]
  },
  {
   "cell_type": "code",
   "execution_count": 51,
   "metadata": {},
   "outputs": [
    {
     "name": "stdout",
     "output_type": "stream",
     "text": [
      "1.000000    730\n",
      "0.000000    180\n",
      "0.500000    130\n",
      "0.666667     84\n",
      "0.800000     55\n",
      "0.750000     53\n",
      "0.333333     51\n",
      "0.250000     43\n",
      "0.600000     38\n",
      "0.200000     25\n",
      "0.400000     23\n",
      "0.857143     20\n",
      "0.714286     17\n",
      "0.833333     15\n",
      "0.166667     13\n",
      "0.571429     13\n",
      "0.625000     13\n",
      "0.285714     12\n",
      "0.428571     11\n",
      "0.875000     11\n",
      "0.888889     11\n",
      "0.444444     11\n",
      "0.125000      9\n",
      "0.375000      8\n",
      "0.555556      8\n",
      "0.777778      8\n",
      "0.909091      6\n",
      "0.222222      6\n",
      "0.272727      5\n",
      "0.300000      5\n",
      "0.700000      5\n",
      "0.818182      4\n",
      "0.900000      4\n",
      "0.181818      4\n",
      "0.142857      3\n",
      "0.363636      3\n",
      "0.090909      2\n",
      "0.055556      2\n",
      "0.416667      2\n",
      "0.062500      2\n",
      "0.100000      2\n",
      "0.727273      1\n",
      "0.769231      1\n",
      "0.111111      1\n",
      "0.461538      1\n",
      "0.923077      1\n",
      "0.733333      1\n",
      "0.050000      1\n",
      "0.105263      1\n",
      "0.454545      1\n",
      "0.545455      1\n",
      "0.307692      1\n",
      "0.384615      1\n",
      "0.153846      1\n",
      "Name: PERSKIDS4, dtype: int64\n",
      "100.000000    730\n",
      "0.000000      180\n",
      "50.000000     130\n",
      "66.666667      84\n",
      "80.000000      55\n",
      "75.000000      53\n",
      "33.333333      51\n",
      "25.000000      43\n",
      "60.000000      38\n",
      "20.000000      25\n",
      "40.000000      23\n",
      "85.714286      20\n",
      "71.428571      17\n",
      "83.333333      15\n",
      "57.142857      13\n",
      "62.500000      13\n",
      "16.666667      13\n",
      "28.571429      12\n",
      "87.500000      11\n",
      "88.888889      11\n",
      "42.857143      11\n",
      "44.444444      11\n",
      "12.500000       9\n",
      "77.777778       8\n",
      "55.555556       8\n",
      "37.500000       8\n",
      "22.222222       6\n",
      "90.909091       6\n",
      "30.000000       5\n",
      "27.272727       5\n",
      "70.000000       5\n",
      "18.181818       4\n",
      "90.000000       4\n",
      "81.818182       4\n",
      "36.363636       3\n",
      "14.285714       3\n",
      "10.000000       2\n",
      "6.250000        2\n",
      "9.090909        2\n",
      "41.666667       2\n",
      "5.555556        2\n",
      "5.000000        1\n",
      "76.923077       1\n",
      "46.153846       1\n",
      "72.727273       1\n",
      "11.111111       1\n",
      "92.307692       1\n",
      "73.333333       1\n",
      "30.769231       1\n",
      "15.384615       1\n",
      "38.461538       1\n",
      "45.454545       1\n",
      "10.526316       1\n",
      "54.545455       1\n",
      "Name: PERSKIDS4, dtype: int64\n"
     ]
    }
   ],
   "source": [
    "## Create a percent kids seen per month\n",
    "subpro2.loc[(subpro2['NKIDS4'] == np.NaN), 'PERSKIDS4'] = np.NaN\n",
    "subpro2.loc[(subpro2['SEEKIDS4'] == np.NaN), 'PERSKIDS4'] = np.NaN\n",
    "subpro2['PERSKIDS4'] = subpro2['SEEKIDS4']/subpro2['NKIDS4']\n",
    "subpro2.loc[(subpro2['NKIDS4'] == 0.0), 'PERSKIDS4'] = 0.0\n",
    "print(subpro2['PERSKIDS4'].value_counts())\n",
    "subpro2['PERSKIDS4'] = subpro2['PERSKIDS4']*100\n",
    "print(subpro2['PERSKIDS4'].value_counts())"
   ]
  },
  {
   "cell_type": "code",
   "execution_count": 52,
   "metadata": {},
   "outputs": [
    {
     "data": {
      "text/plain": [
       "9"
      ]
     },
     "execution_count": 52,
     "metadata": {},
     "output_type": "execute_result"
    }
   ],
   "source": [
    "subpro2['YESKIDS4'].isna().sum()"
   ]
  },
  {
   "cell_type": "code",
   "execution_count": 53,
   "metadata": {},
   "outputs": [
    {
     "name": "stdout",
     "output_type": "stream",
     "text": [
      "2.0    938\n",
      "1.0    363\n",
      "3.0    239\n",
      "Name: MONEYLEFT4, dtype: int64\n",
      "2.0    938\n",
      "3.0    363\n",
      "1.0    239\n",
      "Name: MONEYLEFT4, dtype: int64\n"
     ]
    }
   ],
   "source": [
    "## Recode Money left\n",
    "print(subpro2['MONEYLEFT4'].value_counts())\n",
    "subpro2.loc[(subpro2['MONEYLEFT4'] == 1), 'MONEYLEFT4'] = 4\n",
    "subpro2.loc[(subpro2['MONEYLEFT4'] == 3), 'MONEYLEFT4'] = 1\n",
    "subpro2.loc[(subpro2['MONEYLEFT4'] == 4), 'MONEYLEFT4'] = 3\n",
    "print(subpro2['MONEYLEFT4'].value_counts())"
   ]
  },
  {
   "cell_type": "code",
   "execution_count": 54,
   "metadata": {},
   "outputs": [
    {
     "name": "stdout",
     "output_type": "stream",
     "text": [
      "2.0    624\n",
      "3.0    367\n",
      "1.0    313\n",
      "4.0    239\n",
      "Name: MONEYBILLS4, dtype: int64\n",
      "2.0    938\n",
      "3.0    363\n",
      "1.0    239\n",
      "Name: MONEYLEFT4, dtype: int64\n",
      "0.0    1382\n",
      "1.0     155\n",
      "Name: FS4, dtype: int64\n",
      "145\n"
     ]
    },
    {
     "data": {
      "text/plain": [
       "145"
      ]
     },
     "execution_count": 54,
     "metadata": {},
     "output_type": "execute_result"
    }
   ],
   "source": [
    "## Below I create a dummy for Financial Strain\n",
    "\n",
    "print(subpro2['MONEYBILLS4'].value_counts())\n",
    "print(subpro2['MONEYLEFT4'].value_counts())\n",
    "subpro2.loc[(subpro2['MONEYBILLS4'] == 1) & (subpro2['MONEYLEFT4'] == 1), 'FS4'] = 1\n",
    "subpro2.loc[(subpro2['MONEYBILLS4'] == 1) & (subpro2['MONEYLEFT4'] == 2), 'FS4'] = 0\n",
    "subpro2.loc[(subpro2['MONEYBILLS4'] == 1) & (subpro2['MONEYLEFT4'] == 3), 'FS4'] = 0\n",
    "subpro2.loc[(subpro2['MONEYBILLS4'] == 2) & (subpro2['MONEYLEFT4'] == 1), 'FS4'] = 0\n",
    "subpro2.loc[(subpro2['MONEYBILLS4'] == 2) & (subpro2['MONEYLEFT4'] == 2), 'FS4'] = 0\n",
    "subpro2.loc[(subpro2['MONEYBILLS4'] == 2) & (subpro2['MONEYLEFT4'] == 3), 'FS4'] = 0\n",
    "subpro2.loc[(subpro2['MONEYBILLS4'] == 3) & (subpro2['MONEYLEFT4'] == 1), 'FS4'] = 0\n",
    "subpro2.loc[(subpro2['MONEYBILLS4'] == 3) & (subpro2['MONEYLEFT4'] == 2), 'FS4'] = 0\n",
    "subpro2.loc[(subpro2['MONEYBILLS4'] == 3) & (subpro2['MONEYLEFT4'] == 3), 'FS4'] = 0\n",
    "subpro2.loc[(subpro2['MONEYBILLS4'] == 4) & (subpro2['MONEYLEFT4'] == 1), 'FS4'] = 0\n",
    "subpro2.loc[(subpro2['MONEYBILLS4'] == 4) & (subpro2['MONEYLEFT4'] == 2), 'FS4'] = 0\n",
    "subpro2.loc[(subpro2['MONEYBILLS4'] == 4) & (subpro2['MONEYLEFT4'] == 3), 'FS4'] = 0\n",
    "print(subpro2['FS4'].value_counts())\n",
    "print(subpro2['FS4'].isna().sum())\n",
    "subpro2.loc[(subpro2['MONEYLEFT4'] == np.NaN), 'FS4'] = np.NaN\n",
    "subpro2.loc[subpro2['MONEYBILLS4'] == np.NaN, 'FS4'] = np.NaN \n",
    "subpro2['FS4'].isna().sum()\n",
    "\n"
   ]
  },
  {
   "cell_type": "code",
   "execution_count": 55,
   "metadata": {},
   "outputs": [
    {
     "name": "stdout",
     "output_type": "stream",
     "text": [
      "80\n",
      "80\n"
     ]
    }
   ],
   "source": [
    "## Create a dummy from POMACAT\n",
    "subpro2.loc[(subpro2['POMACAT4'] == 0), 'POMADUM4'] = 1\n",
    "subpro2.loc[(subpro2['POMACAT4'] == 2), 'POMADUM4'] = 0\n",
    "subpro2.loc[(subpro2['POMACAT4'] == 3), 'POMADUM4'] = 0\n",
    "subpro2.loc[(subpro2['POMACAT4'] == 1), 'POMADUM4'] = 1\n",
    "subpro2.loc[(subpro2['POMACAT4'] == np.NaN), 'POMADUM4'] = np.NaN\n",
    "print(subpro2['POMACAT4'].isna().sum())\n",
    "print(subpro2['POMADUM4'].isna().sum())\n",
    "##recode POMADUM (0=1) (2=0) (3=0)"
   ]
  },
  {
   "cell_type": "code",
   "execution_count": 56,
   "metadata": {},
   "outputs": [
    {
     "name": "stdout",
     "output_type": "stream",
     "text": [
      "2.0    603\n",
      "3.0    502\n",
      "0.0    300\n",
      "1.0    197\n",
      "Name: POMACAT4, dtype: int64\n",
      "0.0    1105\n",
      "1.0     497\n",
      "Name: POMADUM4, dtype: int64\n"
     ]
    }
   ],
   "source": [
    "## Let's see if the categories match\n",
    "\n",
    "print(subpro2['POMACAT4'].value_counts())\n",
    "print(subpro2['POMADUM4'].value_counts())"
   ]
  },
  {
   "cell_type": "code",
   "execution_count": 57,
   "metadata": {},
   "outputs": [
    {
     "data": {
      "text/html": [
       "<div>\n",
       "<style scoped>\n",
       "    .dataframe tbody tr th:only-of-type {\n",
       "        vertical-align: middle;\n",
       "    }\n",
       "\n",
       "    .dataframe tbody tr th {\n",
       "        vertical-align: top;\n",
       "    }\n",
       "\n",
       "    .dataframe thead th {\n",
       "        text-align: right;\n",
       "    }\n",
       "</style>\n",
       "<table border=\"1\" class=\"dataframe\">\n",
       "  <thead>\n",
       "    <tr style=\"text-align: right;\">\n",
       "      <th></th>\n",
       "      <th>PSU</th>\n",
       "      <th>DEP4</th>\n",
       "      <th>SEX4</th>\n",
       "      <th>TALK4</th>\n",
       "      <th>SEEKIDS4</th>\n",
       "      <th>NKIDS4</th>\n",
       "      <th>COUNTON4</th>\n",
       "      <th>AGE4</th>\n",
       "      <th>MARSTAT4</th>\n",
       "      <th>MONEYBILLS4</th>\n",
       "      <th>...</th>\n",
       "      <th>RELIGDEAL4</th>\n",
       "      <th>RELIGPRAY4</th>\n",
       "      <th>TOTPOMA4</th>\n",
       "      <th>POMACAT4</th>\n",
       "      <th>TOTMMSE4</th>\n",
       "      <th>LOSS4</th>\n",
       "      <th>YESKIDS4</th>\n",
       "      <th>PERSKIDS4</th>\n",
       "      <th>FS4</th>\n",
       "      <th>POMADUM4</th>\n",
       "    </tr>\n",
       "    <tr>\n",
       "      <th>ID</th>\n",
       "      <th></th>\n",
       "      <th></th>\n",
       "      <th></th>\n",
       "      <th></th>\n",
       "      <th></th>\n",
       "      <th></th>\n",
       "      <th></th>\n",
       "      <th></th>\n",
       "      <th></th>\n",
       "      <th></th>\n",
       "      <th></th>\n",
       "      <th></th>\n",
       "      <th></th>\n",
       "      <th></th>\n",
       "      <th></th>\n",
       "      <th></th>\n",
       "      <th></th>\n",
       "      <th></th>\n",
       "      <th></th>\n",
       "      <th></th>\n",
       "      <th></th>\n",
       "    </tr>\n",
       "  </thead>\n",
       "  <tbody>\n",
       "    <tr>\n",
       "      <th>10001</th>\n",
       "      <td>281</td>\n",
       "      <td>20.0</td>\n",
       "      <td>1</td>\n",
       "      <td>1.0</td>\n",
       "      <td>2.0</td>\n",
       "      <td>3.0</td>\n",
       "      <td>1.0</td>\n",
       "      <td>77</td>\n",
       "      <td>4.0</td>\n",
       "      <td>3.0</td>\n",
       "      <td>...</td>\n",
       "      <td>2.0</td>\n",
       "      <td>1.0</td>\n",
       "      <td>7.0</td>\n",
       "      <td>2.0</td>\n",
       "      <td>21.0</td>\n",
       "      <td>0.0</td>\n",
       "      <td>1.0</td>\n",
       "      <td>66.666667</td>\n",
       "      <td>0.0</td>\n",
       "      <td>0.0</td>\n",
       "    </tr>\n",
       "    <tr>\n",
       "      <th>10002</th>\n",
       "      <td>166</td>\n",
       "      <td>6.0</td>\n",
       "      <td>1</td>\n",
       "      <td>1.0</td>\n",
       "      <td>2.0</td>\n",
       "      <td>4.0</td>\n",
       "      <td>1.0</td>\n",
       "      <td>80</td>\n",
       "      <td>4.0</td>\n",
       "      <td>4.0</td>\n",
       "      <td>...</td>\n",
       "      <td>1.0</td>\n",
       "      <td>1.0</td>\n",
       "      <td>6.0</td>\n",
       "      <td>2.0</td>\n",
       "      <td>28.0</td>\n",
       "      <td>0.0</td>\n",
       "      <td>1.0</td>\n",
       "      <td>50.000000</td>\n",
       "      <td>0.0</td>\n",
       "      <td>0.0</td>\n",
       "    </tr>\n",
       "    <tr>\n",
       "      <th>10008</th>\n",
       "      <td>180</td>\n",
       "      <td>5.0</td>\n",
       "      <td>1</td>\n",
       "      <td>1.0</td>\n",
       "      <td>4.0</td>\n",
       "      <td>4.0</td>\n",
       "      <td>1.0</td>\n",
       "      <td>77</td>\n",
       "      <td>4.0</td>\n",
       "      <td>4.0</td>\n",
       "      <td>...</td>\n",
       "      <td>2.0</td>\n",
       "      <td>2.0</td>\n",
       "      <td>8.0</td>\n",
       "      <td>2.0</td>\n",
       "      <td>20.0</td>\n",
       "      <td>0.0</td>\n",
       "      <td>1.0</td>\n",
       "      <td>100.000000</td>\n",
       "      <td>0.0</td>\n",
       "      <td>0.0</td>\n",
       "    </tr>\n",
       "    <tr>\n",
       "      <th>10009</th>\n",
       "      <td>151</td>\n",
       "      <td>4.0</td>\n",
       "      <td>0</td>\n",
       "      <td>1.0</td>\n",
       "      <td>2.0</td>\n",
       "      <td>11.0</td>\n",
       "      <td>1.0</td>\n",
       "      <td>78</td>\n",
       "      <td>1.0</td>\n",
       "      <td>2.0</td>\n",
       "      <td>...</td>\n",
       "      <td>2.0</td>\n",
       "      <td>2.0</td>\n",
       "      <td>9.0</td>\n",
       "      <td>3.0</td>\n",
       "      <td>22.0</td>\n",
       "      <td>0.0</td>\n",
       "      <td>1.0</td>\n",
       "      <td>18.181818</td>\n",
       "      <td>0.0</td>\n",
       "      <td>0.0</td>\n",
       "    </tr>\n",
       "    <tr>\n",
       "      <th>10010</th>\n",
       "      <td>151</td>\n",
       "      <td>6.0</td>\n",
       "      <td>1</td>\n",
       "      <td>NaN</td>\n",
       "      <td>1.0</td>\n",
       "      <td>1.0</td>\n",
       "      <td>1.0</td>\n",
       "      <td>75</td>\n",
       "      <td>4.0</td>\n",
       "      <td>3.0</td>\n",
       "      <td>...</td>\n",
       "      <td>3.0</td>\n",
       "      <td>2.0</td>\n",
       "      <td>10.0</td>\n",
       "      <td>3.0</td>\n",
       "      <td>9.0</td>\n",
       "      <td>NaN</td>\n",
       "      <td>1.0</td>\n",
       "      <td>100.000000</td>\n",
       "      <td>0.0</td>\n",
       "      <td>0.0</td>\n",
       "    </tr>\n",
       "  </tbody>\n",
       "</table>\n",
       "<p>5 rows × 23 columns</p>\n",
       "</div>"
      ],
      "text/plain": [
       "       PSU  DEP4  SEX4  TALK4  SEEKIDS4  NKIDS4  COUNTON4  AGE4  MARSTAT4  \\\n",
       "ID                                                                          \n",
       "10001  281  20.0     1    1.0       2.0     3.0       1.0    77       4.0   \n",
       "10002  166   6.0     1    1.0       2.0     4.0       1.0    80       4.0   \n",
       "10008  180   5.0     1    1.0       4.0     4.0       1.0    77       4.0   \n",
       "10009  151   4.0     0    1.0       2.0    11.0       1.0    78       1.0   \n",
       "10010  151   6.0     1    NaN       1.0     1.0       1.0    75       4.0   \n",
       "\n",
       "       MONEYBILLS4    ...     RELIGDEAL4  RELIGPRAY4  TOTPOMA4  POMACAT4  \\\n",
       "ID                    ...                                                  \n",
       "10001          3.0    ...            2.0         1.0       7.0       2.0   \n",
       "10002          4.0    ...            1.0         1.0       6.0       2.0   \n",
       "10008          4.0    ...            2.0         2.0       8.0       2.0   \n",
       "10009          2.0    ...            2.0         2.0       9.0       3.0   \n",
       "10010          3.0    ...            3.0         2.0      10.0       3.0   \n",
       "\n",
       "       TOTMMSE4  LOSS4  YESKIDS4   PERSKIDS4  FS4  POMADUM4  \n",
       "ID                                                           \n",
       "10001      21.0    0.0       1.0   66.666667  0.0       0.0  \n",
       "10002      28.0    0.0       1.0   50.000000  0.0       0.0  \n",
       "10008      20.0    0.0       1.0  100.000000  0.0       0.0  \n",
       "10009      22.0    0.0       1.0   18.181818  0.0       0.0  \n",
       "10010       9.0    NaN       1.0  100.000000  0.0       0.0  \n",
       "\n",
       "[5 rows x 23 columns]"
      ]
     },
     "execution_count": 57,
     "metadata": {},
     "output_type": "execute_result"
    }
   ],
   "source": [
    "subpro2.head()"
   ]
  },
  {
   "cell_type": "code",
   "execution_count": 58,
   "metadata": {},
   "outputs": [
    {
     "name": "stdout",
     "output_type": "stream",
     "text": [
      "count    1589.000000\n",
      "mean       20.947766\n",
      "std         7.057994\n",
      "min         0.000000\n",
      "25%        18.000000\n",
      "50%        22.000000\n",
      "75%        26.000000\n",
      "max        30.000000\n",
      "Name: TOTMMSE4, dtype: float64\n",
      "22.0    145\n",
      "30.0    143\n",
      "21.0    121\n",
      "20.0    110\n",
      "23.0    107\n",
      "29.0     93\n",
      "19.0     89\n",
      "24.0     80\n",
      "28.0     78\n",
      "18.0     71\n",
      "27.0     67\n",
      "0.0      65\n",
      "25.0     63\n",
      "17.0     58\n",
      "16.0     58\n",
      "26.0     55\n",
      "14.0     32\n",
      "15.0     28\n",
      "12.0     26\n",
      "13.0     25\n",
      "9.0      20\n",
      "11.0     16\n",
      "10.0      9\n",
      "8.0       7\n",
      "3.0       5\n",
      "4.0       5\n",
      "7.0       4\n",
      "5.0       4\n",
      "6.0       2\n",
      "1.0       2\n",
      "2.0       1\n",
      "Name: TOTMMSE4, dtype: int64\n",
      "0.0    1062\n",
      "1.0     527\n",
      "Name: MMSECAT4, dtype: int64\n"
     ]
    }
   ],
   "source": [
    "print(subpro2['TOTMMSE4'].describe())\n",
    "\n",
    "subpro2.loc[(subpro2['TOTMMSE4'] >= 0.0) & (subpro2['TOTMMSE4'] <= 19.0), 'MMSECAT4'] = 1.0\n",
    "subpro2.loc[(subpro2['TOTMMSE4'] >= 20.0) , 'MMSECAT4'] = 0.0\n",
    "subpro2.loc[(subpro2['TOTMMSE4'] == np.NaN) , 'MMSECAT4'] = np.NaN\n",
    "print(subpro2['TOTMMSE4'].value_counts())\n",
    "print(subpro2['MMSECAT4'].value_counts())\n",
    "\n",
    "##recode MMSECAT (min/19=1) (20/max=0)"
   ]
  },
  {
   "cell_type": "code",
   "execution_count": 59,
   "metadata": {},
   "outputs": [
    {
     "name": "stdout",
     "output_type": "stream",
     "text": [
      "93\n",
      "93\n"
     ]
    }
   ],
   "source": [
    "print(subpro2['MMSECAT4'].isna().sum())\n",
    "print(subpro2['TOTMMSE4'].isna().sum())"
   ]
  },
  {
   "cell_type": "code",
   "execution_count": 60,
   "metadata": {},
   "outputs": [],
   "source": [
    "## Adding a consant to variables\n",
    "subpro2['DEPC4'] = subpro2['DEP4'] + 1 \n",
    "subpro2['PERSKIDSC4'] = subpro2['PERSKIDS4'] + 1 \n"
   ]
  },
  {
   "cell_type": "code",
   "execution_count": 61,
   "metadata": {},
   "outputs": [
    {
     "data": {
      "text/plain": [
       "101.000000    730\n",
       "1.000000      180\n",
       "51.000000     130\n",
       "67.666667      84\n",
       "81.000000      55\n",
       "76.000000      53\n",
       "34.333333      51\n",
       "26.000000      43\n",
       "61.000000      38\n",
       "21.000000      25\n",
       "41.000000      23\n",
       "86.714286      20\n",
       "72.428571      17\n",
       "84.333333      15\n",
       "17.666667      13\n",
       "63.500000      13\n",
       "58.142857      13\n",
       "29.571429      12\n",
       "43.857143      11\n",
       "89.888889      11\n",
       "45.444444      11\n",
       "88.500000      11\n",
       "13.500000       9\n",
       "38.500000       8\n",
       "78.777778       8\n",
       "56.555556       8\n",
       "23.222222       6\n",
       "91.909091       6\n",
       "28.272727       5\n",
       "31.000000       5\n",
       "71.000000       5\n",
       "91.000000       4\n",
       "19.181818       4\n",
       "82.818182       4\n",
       "15.285714       3\n",
       "37.363636       3\n",
       "42.666667       2\n",
       "11.000000       2\n",
       "7.250000        2\n",
       "10.090909       2\n",
       "6.555556        2\n",
       "74.333333       1\n",
       "16.384615       1\n",
       "11.526316       1\n",
       "39.461538       1\n",
       "31.769231       1\n",
       "93.307692       1\n",
       "77.923077       1\n",
       "47.153846       1\n",
       "55.545455       1\n",
       "12.111111       1\n",
       "6.000000        1\n",
       "73.727273       1\n",
       "46.454545       1\n",
       "Name: PERSKIDSC4, dtype: int64"
      ]
     },
     "execution_count": 61,
     "metadata": {},
     "output_type": "execute_result"
    }
   ],
   "source": [
    "subpro2['PERSKIDSC4'].value_counts()"
   ]
  },
  {
   "cell_type": "code",
   "execution_count": 62,
   "metadata": {},
   "outputs": [
    {
     "data": {
      "text/plain": [
       "<matplotlib.axes._subplots.AxesSubplot at 0x24f1931d400>"
      ]
     },
     "execution_count": 62,
     "metadata": {},
     "output_type": "execute_result"
    }
   ],
   "source": [
    "ax1 = subpro2.plot.scatter(x='RELIGPART4', y='DEPC4', c='DarkBlue')\n",
    "ax1"
   ]
  },
  {
   "cell_type": "code",
   "execution_count": 63,
   "metadata": {},
   "outputs": [
    {
     "data": {
      "text/plain": [
       "<matplotlib.axes._subplots.AxesSubplot at 0x24f1979d2b0>"
      ]
     },
     "execution_count": 63,
     "metadata": {},
     "output_type": "execute_result"
    },
    {
     "data": {
      "image/png": "[encoded data removed]",
      "text/plain": [
       "<Figure size 432x288 with 1 Axes>"
      ]
     },
     "metadata": {},
     "output_type": "display_data"
    }
   ],
   "source": [
    "ax2 = subpro2.plot.scatter(x='AGE4', y='DEPC4', c='DarkBlue')\n",
    "ax2"
   ]
  },
  {
   "cell_type": "code",
   "execution_count": 64,
   "metadata": {
    "scrolled": true
   },
   "outputs": [
    {
     "data": {
      "text/plain": [
       "<matplotlib.axes._subplots.AxesSubplot at 0x24f197ef630>"
      ]
     },
     "execution_count": 64,
     "metadata": {},
     "output_type": "execute_result"
    },
    {
     "data": {
      "image/png": "[encoded data removed]",
      "text/plain": [
       "<Figure size 432x288 with 1 Axes>"
      ]
     },
     "metadata": {},
     "output_type": "display_data"
    }
   ],
   "source": [
    "ax3 = subpro2.plot.scatter(x='PERSKIDS4', y='DEPC4', c='DarkBlue')\n",
    "ax3"
   ]
  },
  {
   "cell_type": "code",
   "execution_count": 65,
   "metadata": {},
   "outputs": [
    {
     "name": "stdout",
     "output_type": "stream",
     "text": [
      "Intercept     12.378150\n",
      "PERSKIDS4     -0.013327\n",
      "RELIGPART4    -1.790320\n",
      "dtype: float64\n"
     ]
    }
   ],
   "source": [
    "import statsmodels.formula.api as sm\n",
    "result = sm.ols(formula=\"DEPC4 ~ PERSKIDS4 + RELIGPART4\", data=subpro2).fit()\n",
    "print(result.params)"
   ]
  },
  {
   "cell_type": "code",
   "execution_count": 66,
   "metadata": {},
   "outputs": [],
   "source": [
    "subpro2['RELIGPART4'].value_counts()\n",
    "subpro3 = subpro2"
   ]
  },
  {
   "cell_type": "code",
   "execution_count": 67,
   "metadata": {},
   "outputs": [],
   "source": [
    "subpro3['RELIGPARTA14'] = np.where(subpro3['RELIGPART4']==1.0, 1.0, 0.0)\n",
    "subpro3['RELIGPARTA24'] = np.where(subpro3['RELIGPART4']==2.0, 1.0, 0.0)\n",
    "subpro3['RELIGPARTA34'] = np.where(subpro3['RELIGPART4']==3.0, 1.0, 0.0)"
   ]
  },
  {
   "cell_type": "code",
   "execution_count": 68,
   "metadata": {},
   "outputs": [
    {
     "data": {
      "text/html": [
       "<div>\n",
       "<style scoped>\n",
       "    .dataframe tbody tr th:only-of-type {\n",
       "        vertical-align: middle;\n",
       "    }\n",
       "\n",
       "    .dataframe tbody tr th {\n",
       "        vertical-align: top;\n",
       "    }\n",
       "\n",
       "    .dataframe thead th {\n",
       "        text-align: right;\n",
       "    }\n",
       "</style>\n",
       "<table border=\"1\" class=\"dataframe\">\n",
       "  <thead>\n",
       "    <tr style=\"text-align: right;\">\n",
       "      <th></th>\n",
       "      <th>PSU</th>\n",
       "      <th>DEP4</th>\n",
       "      <th>SEX4</th>\n",
       "      <th>TALK4</th>\n",
       "      <th>SEEKIDS4</th>\n",
       "      <th>NKIDS4</th>\n",
       "      <th>COUNTON4</th>\n",
       "      <th>AGE4</th>\n",
       "      <th>MARSTAT4</th>\n",
       "      <th>MONEYBILLS4</th>\n",
       "      <th>...</th>\n",
       "      <th>YESKIDS4</th>\n",
       "      <th>PERSKIDS4</th>\n",
       "      <th>FS4</th>\n",
       "      <th>POMADUM4</th>\n",
       "      <th>MMSECAT4</th>\n",
       "      <th>DEPC4</th>\n",
       "      <th>PERSKIDSC4</th>\n",
       "      <th>RELIGPARTA14</th>\n",
       "      <th>RELIGPARTA24</th>\n",
       "      <th>RELIGPARTA34</th>\n",
       "    </tr>\n",
       "    <tr>\n",
       "      <th>ID</th>\n",
       "      <th></th>\n",
       "      <th></th>\n",
       "      <th></th>\n",
       "      <th></th>\n",
       "      <th></th>\n",
       "      <th></th>\n",
       "      <th></th>\n",
       "      <th></th>\n",
       "      <th></th>\n",
       "      <th></th>\n",
       "      <th></th>\n",
       "      <th></th>\n",
       "      <th></th>\n",
       "      <th></th>\n",
       "      <th></th>\n",
       "      <th></th>\n",
       "      <th></th>\n",
       "      <th></th>\n",
       "      <th></th>\n",
       "      <th></th>\n",
       "      <th></th>\n",
       "    </tr>\n",
       "  </thead>\n",
       "  <tbody>\n",
       "    <tr>\n",
       "      <th>10001</th>\n",
       "      <td>281</td>\n",
       "      <td>20.0</td>\n",
       "      <td>1</td>\n",
       "      <td>1.0</td>\n",
       "      <td>2.0</td>\n",
       "      <td>3.0</td>\n",
       "      <td>1.0</td>\n",
       "      <td>77</td>\n",
       "      <td>4.0</td>\n",
       "      <td>3.0</td>\n",
       "      <td>...</td>\n",
       "      <td>1.0</td>\n",
       "      <td>66.666667</td>\n",
       "      <td>0.0</td>\n",
       "      <td>0.0</td>\n",
       "      <td>0.0</td>\n",
       "      <td>21.0</td>\n",
       "      <td>67.666667</td>\n",
       "      <td>0.0</td>\n",
       "      <td>1.0</td>\n",
       "      <td>0.0</td>\n",
       "    </tr>\n",
       "    <tr>\n",
       "      <th>10002</th>\n",
       "      <td>166</td>\n",
       "      <td>6.0</td>\n",
       "      <td>1</td>\n",
       "      <td>1.0</td>\n",
       "      <td>2.0</td>\n",
       "      <td>4.0</td>\n",
       "      <td>1.0</td>\n",
       "      <td>80</td>\n",
       "      <td>4.0</td>\n",
       "      <td>4.0</td>\n",
       "      <td>...</td>\n",
       "      <td>1.0</td>\n",
       "      <td>50.000000</td>\n",
       "      <td>0.0</td>\n",
       "      <td>0.0</td>\n",
       "      <td>0.0</td>\n",
       "      <td>7.0</td>\n",
       "      <td>51.000000</td>\n",
       "      <td>1.0</td>\n",
       "      <td>0.0</td>\n",
       "      <td>0.0</td>\n",
       "    </tr>\n",
       "    <tr>\n",
       "      <th>10008</th>\n",
       "      <td>180</td>\n",
       "      <td>5.0</td>\n",
       "      <td>1</td>\n",
       "      <td>1.0</td>\n",
       "      <td>4.0</td>\n",
       "      <td>4.0</td>\n",
       "      <td>1.0</td>\n",
       "      <td>77</td>\n",
       "      <td>4.0</td>\n",
       "      <td>4.0</td>\n",
       "      <td>...</td>\n",
       "      <td>1.0</td>\n",
       "      <td>100.000000</td>\n",
       "      <td>0.0</td>\n",
       "      <td>0.0</td>\n",
       "      <td>0.0</td>\n",
       "      <td>6.0</td>\n",
       "      <td>101.000000</td>\n",
       "      <td>0.0</td>\n",
       "      <td>1.0</td>\n",
       "      <td>0.0</td>\n",
       "    </tr>\n",
       "    <tr>\n",
       "      <th>10009</th>\n",
       "      <td>151</td>\n",
       "      <td>4.0</td>\n",
       "      <td>0</td>\n",
       "      <td>1.0</td>\n",
       "      <td>2.0</td>\n",
       "      <td>11.0</td>\n",
       "      <td>1.0</td>\n",
       "      <td>78</td>\n",
       "      <td>1.0</td>\n",
       "      <td>2.0</td>\n",
       "      <td>...</td>\n",
       "      <td>1.0</td>\n",
       "      <td>18.181818</td>\n",
       "      <td>0.0</td>\n",
       "      <td>0.0</td>\n",
       "      <td>0.0</td>\n",
       "      <td>5.0</td>\n",
       "      <td>19.181818</td>\n",
       "      <td>0.0</td>\n",
       "      <td>1.0</td>\n",
       "      <td>0.0</td>\n",
       "    </tr>\n",
       "    <tr>\n",
       "      <th>10010</th>\n",
       "      <td>151</td>\n",
       "      <td>6.0</td>\n",
       "      <td>1</td>\n",
       "      <td>NaN</td>\n",
       "      <td>1.0</td>\n",
       "      <td>1.0</td>\n",
       "      <td>1.0</td>\n",
       "      <td>75</td>\n",
       "      <td>4.0</td>\n",
       "      <td>3.0</td>\n",
       "      <td>...</td>\n",
       "      <td>1.0</td>\n",
       "      <td>100.000000</td>\n",
       "      <td>0.0</td>\n",
       "      <td>0.0</td>\n",
       "      <td>1.0</td>\n",
       "      <td>7.0</td>\n",
       "      <td>101.000000</td>\n",
       "      <td>0.0</td>\n",
       "      <td>0.0</td>\n",
       "      <td>1.0</td>\n",
       "    </tr>\n",
       "  </tbody>\n",
       "</table>\n",
       "<p>5 rows × 29 columns</p>\n",
       "</div>"
      ],
      "text/plain": [
       "       PSU  DEP4  SEX4  TALK4  SEEKIDS4  NKIDS4  COUNTON4  AGE4  MARSTAT4  \\\n",
       "ID                                                                          \n",
       "10001  281  20.0     1    1.0       2.0     3.0       1.0    77       4.0   \n",
       "10002  166   6.0     1    1.0       2.0     4.0       1.0    80       4.0   \n",
       "10008  180   5.0     1    1.0       4.0     4.0       1.0    77       4.0   \n",
       "10009  151   4.0     0    1.0       2.0    11.0       1.0    78       1.0   \n",
       "10010  151   6.0     1    NaN       1.0     1.0       1.0    75       4.0   \n",
       "\n",
       "       MONEYBILLS4      ...       YESKIDS4   PERSKIDS4  FS4  POMADUM4  \\\n",
       "ID                      ...                                             \n",
       "10001          3.0      ...            1.0   66.666667  0.0       0.0   \n",
       "10002          4.0      ...            1.0   50.000000  0.0       0.0   \n",
       "10008          4.0      ...            1.0  100.000000  0.0       0.0   \n",
       "10009          2.0      ...            1.0   18.181818  0.0       0.0   \n",
       "10010          3.0      ...            1.0  100.000000  0.0       0.0   \n",
       "\n",
       "       MMSECAT4  DEPC4  PERSKIDSC4  RELIGPARTA14  RELIGPARTA24  RELIGPARTA34  \n",
       "ID                                                                            \n",
       "10001       0.0   21.0   67.666667           0.0           1.0           0.0  \n",
       "10002       0.0    7.0   51.000000           1.0           0.0           0.0  \n",
       "10008       0.0    6.0  101.000000           0.0           1.0           0.0  \n",
       "10009       0.0    5.0   19.181818           0.0           1.0           0.0  \n",
       "10010       1.0    7.0  101.000000           0.0           0.0           1.0  \n",
       "\n",
       "[5 rows x 29 columns]"
      ]
     },
     "execution_count": 68,
     "metadata": {},
     "output_type": "execute_result"
    }
   ],
   "source": [
    "subpro3.head()"
   ]
  },
  {
   "cell_type": "code",
   "execution_count": 69,
   "metadata": {
    "scrolled": true
   },
   "outputs": [],
   "source": [
    "subpro3 = pd.concat([subpro3,pd.get_dummies(subpro3['RELIGPART4'], prefix = 'RPART')],axis=1)"
   ]
  },
  {
   "cell_type": "code",
   "execution_count": null,
   "metadata": {},
   "outputs": [],
   "source": []
  },
  {
   "cell_type": "code",
   "execution_count": null,
   "metadata": {},
   "outputs": [],
   "source": []
  },
  {
   "cell_type": "code",
   "execution_count": 70,
   "metadata": {},
   "outputs": [],
   "source": [
    "%matplotlib inline\n",
    "import numpy as np\n",
    "import pandas as pd\n",
    "import sklearn"
   ]
  },
  {
   "cell_type": "code",
   "execution_count": 71,
   "metadata": {},
   "outputs": [
    {
     "data": {
      "text/plain": [
       "['PSU',\n",
       " 'DEP4',\n",
       " 'SEX4',\n",
       " 'TALK4',\n",
       " 'SEEKIDS4',\n",
       " 'NKIDS4',\n",
       " 'COUNTON4',\n",
       " 'AGE4',\n",
       " 'MARSTAT4',\n",
       " 'MONEYBILLS4',\n",
       " 'MONEYLEFT4',\n",
       " 'RELIGPART4',\n",
       " 'RELIGEXTE4',\n",
       " 'RELIGDEAL4',\n",
       " 'RELIGPRAY4',\n",
       " 'TOTPOMA4',\n",
       " 'POMACAT4',\n",
       " 'TOTMMSE4',\n",
       " 'LOSS4',\n",
       " 'YESKIDS4',\n",
       " 'PERSKIDS4',\n",
       " 'FS4',\n",
       " 'POMADUM4',\n",
       " 'MMSECAT4',\n",
       " 'DEPC4',\n",
       " 'PERSKIDSC4',\n",
       " 'RELIGPARTA14',\n",
       " 'RELIGPARTA24',\n",
       " 'RELIGPARTA34',\n",
       " 'RPART_1.0',\n",
       " 'RPART_2.0',\n",
       " 'RPART_3.0']"
      ]
     },
     "execution_count": 71,
     "metadata": {},
     "output_type": "execute_result"
    }
   ],
   "source": [
    "list(subpro3)"
   ]
  },
  {
   "cell_type": "code",
   "execution_count": 72,
   "metadata": {},
   "outputs": [],
   "source": [
    "subpro4 = subpro3.dropna()\n",
    "y = subpro4['DEPC4']\n",
    "X = subpro4[['SEX4' ,'POMADUM4', 'MMSECAT4', 'RELIGPART4', 'RELIGEXTE4', 'RELIGPRAY4', 'RELIGEXTE4', 'LOSS4', 'AGE4', 'FS4']]"
   ]
  },
  {
   "cell_type": "code",
   "execution_count": 73,
   "metadata": {},
   "outputs": [
    {
     "data": {
      "text/plain": [
       "(1162, 10)"
      ]
     },
     "execution_count": 73,
     "metadata": {},
     "output_type": "execute_result"
    }
   ],
   "source": [
    "X.shape"
   ]
  },
  {
   "cell_type": "code",
   "execution_count": 74,
   "metadata": {},
   "outputs": [
    {
     "data": {
      "text/plain": [
       "(1162,)"
      ]
     },
     "execution_count": 74,
     "metadata": {},
     "output_type": "execute_result"
    }
   ],
   "source": [
    "y.shape"
   ]
  },
  {
   "cell_type": "code",
   "execution_count": 75,
   "metadata": {},
   "outputs": [
    {
     "data": {
      "text/plain": [
       "pandas.core.frame.DataFrame"
      ]
     },
     "execution_count": 75,
     "metadata": {},
     "output_type": "execute_result"
    }
   ],
   "source": [
    "type(X)"
   ]
  },
  {
   "cell_type": "code",
   "execution_count": 76,
   "metadata": {},
   "outputs": [],
   "source": [
    "from sklearn.model_selection import train_test_split"
   ]
  },
  {
   "cell_type": "code",
   "execution_count": 77,
   "metadata": {},
   "outputs": [],
   "source": [
    "X_train, X_test, y_train, y_test = train_test_split( X, y, test_size=0.30, random_state=9)"
   ]
  },
  {
   "cell_type": "code",
   "execution_count": 78,
   "metadata": {},
   "outputs": [],
   "source": [
    "from sklearn.linear_model import LinearRegression\n",
    "LinReg = LinearRegression()"
   ]
  },
  {
   "cell_type": "code",
   "execution_count": 79,
   "metadata": {},
   "outputs": [
    {
     "data": {
      "text/plain": [
       "((813, 10), (813,))"
      ]
     },
     "execution_count": 79,
     "metadata": {},
     "output_type": "execute_result"
    }
   ],
   "source": [
    "X_train.shape, y_train.shape"
   ]
  },
  {
   "cell_type": "code",
   "execution_count": 80,
   "metadata": {},
   "outputs": [
    {
     "data": {
      "text/plain": [
       "((349, 10), (349,))"
      ]
     },
     "execution_count": 80,
     "metadata": {},
     "output_type": "execute_result"
    }
   ],
   "source": [
    "X_test.shape, y_test.shape"
   ]
  },
  {
   "cell_type": "code",
   "execution_count": 81,
   "metadata": {},
   "outputs": [
    {
     "data": {
      "text/plain": [
       "LinearRegression(copy_X=True, fit_intercept=True, n_jobs=1, normalize=False)"
      ]
     },
     "execution_count": 81,
     "metadata": {},
     "output_type": "execute_result"
    }
   ],
   "source": [
    "LinReg.fit(X_train, y_train)"
   ]
  },
  {
   "cell_type": "code",
   "execution_count": 82,
   "metadata": {},
   "outputs": [],
   "source": [
    "y_predicted = LinReg.predict(X_test)"
   ]
  },
  {
   "cell_type": "code",
   "execution_count": 83,
   "metadata": {},
   "outputs": [
    {
     "name": "stdout",
     "output_type": "stream",
     "text": [
      "60.534064159367425\n"
     ]
    }
   ],
   "source": [
    "mean_sq_error = np.mean( (y_test - y_predicted) **2 )\n",
    "print(mean_sq_error)"
   ]
  },
  {
   "cell_type": "code",
   "execution_count": 84,
   "metadata": {},
   "outputs": [
    {
     "name": "stdout",
     "output_type": "stream",
     "text": [
      "60.53406415936742\n"
     ]
    }
   ],
   "source": [
    "from sklearn.metrics import mean_squared_error\n",
    "print(mean_squared_error(y_true = y_test, y_pred = LinReg.predict(X_test)))"
   ]
  },
  {
   "cell_type": "code",
   "execution_count": 85,
   "metadata": {},
   "outputs": [
    {
     "name": "stdout",
     "output_type": "stream",
     "text": [
      "40.40759141669519\n"
     ]
    }
   ],
   "source": [
    "print(mean_squared_error(y_true = y_train, y_pred = LinReg.predict(X_train)))"
   ]
  },
  {
   "cell_type": "code",
   "execution_count": 86,
   "metadata": {},
   "outputs": [
    {
     "data": {
      "text/plain": [
       "0.12100047464135255"
      ]
     },
     "execution_count": 86,
     "metadata": {},
     "output_type": "execute_result"
    }
   ],
   "source": [
    "LinReg.score(X_test, y_test)"
   ]
  },
  {
   "cell_type": "code",
   "execution_count": 87,
   "metadata": {},
   "outputs": [
    {
     "data": {
      "text/plain": [
       "(array([ 16., 123., 111.,  40.,  22.,  15.,   9.,   7.,   4.,   2.]),\n",
       " array([-11.90425559,  -7.2545958 ,  -2.604936  ,   2.04472379,\n",
       "          6.69438358,  11.34404338,  15.99370317,  20.64336297,\n",
       "         25.29302276,  29.94268256,  34.59234235]),\n",
       " <a list of 10 Patch objects>)"
      ]
     },
     "execution_count": 87,
     "metadata": {},
     "output_type": "execute_result"
    },
    {
     "data": {
      "image/png": "[encoded data removed]",
      "text/plain": [
       "<Figure size 432x288 with 1 Axes>"
      ]
     },
     "metadata": {},
     "output_type": "display_data"
    }
   ],
   "source": [
    "import matplotlib.pyplot as plt\n",
    "plt.hist(y_test - y_predicted)"
   ]
  },
  {
   "cell_type": "code",
   "execution_count": 88,
   "metadata": {},
   "outputs": [
    {
     "data": {
      "text/plain": [
       "<matplotlib.collections.PathCollection at 0x24f1bdec2b0>"
      ]
     },
     "execution_count": 88,
     "metadata": {},
     "output_type": "execute_result"
    },
    {
     "data": {
      "image/png": "[encoded data removed]",
      "text/plain": [
       "<Figure size 432x288 with 1 Axes>"
      ]
     },
     "metadata": {},
     "output_type": "display_data"
    }
   ],
   "source": [
    "plt.scatter(y_predicted, y_test - y_predicted)"
   ]
  },
  {
   "cell_type": "code",
   "execution_count": 89,
   "metadata": {},
   "outputs": [
    {
     "data": {
      "text/plain": [
       "<matplotlib.collections.PathCollection at 0x24f1be41b38>"
      ]
     },
     "execution_count": 89,
     "metadata": {},
     "output_type": "execute_result"
    },
    {
     "data": {
      "image/png": "[encoded data removed]",
      "text/plain": [
       "<Figure size 432x288 with 1 Axes>"
      ]
     },
     "metadata": {},
     "output_type": "display_data"
    }
   ],
   "source": [
    "plt.scatter(LinReg.predict(X), y - LinReg.predict(X))"
   ]
  },
  {
   "cell_type": "code",
   "execution_count": 90,
   "metadata": {},
   "outputs": [
    {
     "data": {
      "text/plain": [
       "<matplotlib.collections.PathCollection at 0x24f1be80400>"
      ]
     },
     "execution_count": 90,
     "metadata": {},
     "output_type": "execute_result"
    },
    {
     "data": {
      "image/png": "[encoded data removed]",
      "text/plain": [
       "<Figure size 432x288 with 1 Axes>"
      ]
     },
     "metadata": {},
     "output_type": "display_data"
    }
   ],
   "source": [
    "plt.scatter(LinReg.predict(X_train), y_train - LinReg.predict(X_train))"
   ]
  },
  {
   "cell_type": "code",
   "execution_count": 91,
   "metadata": {},
   "outputs": [
    {
     "name": "stdout",
     "output_type": "stream",
     "text": [
      "[ 2.12096591  3.07945389  1.39897027 -0.29939335 -0.43185025 -0.71879113\n",
      " -0.43185025  1.82312552 -0.01023483  3.8024944 ]\n"
     ]
    }
   ],
   "source": [
    "print(LinReg.coef_)"
   ]
  },
  {
   "cell_type": "code",
   "execution_count": 92,
   "metadata": {},
   "outputs": [],
   "source": [
    "from sklearn.neural_network import MLPRegressor"
   ]
  },
  {
   "cell_type": "code",
   "execution_count": 93,
   "metadata": {},
   "outputs": [],
   "source": [
    "nn_reg = MLPRegressor(solver='lbfgs', alpha=1e-5,\n",
    "                     hidden_layer_sizes=(5,2,2), random_state=1)"
   ]
  },
  {
   "cell_type": "code",
   "execution_count": 94,
   "metadata": {},
   "outputs": [
    {
     "data": {
      "text/plain": [
       "MLPRegressor(activation='relu', alpha=1e-05, batch_size='auto', beta_1=0.9,\n",
       "       beta_2=0.999, early_stopping=False, epsilon=1e-08,\n",
       "       hidden_layer_sizes=(5, 2, 2), learning_rate='constant',\n",
       "       learning_rate_init=0.001, max_iter=200, momentum=0.9,\n",
       "       nesterovs_momentum=True, power_t=0.5, random_state=1, shuffle=True,\n",
       "       solver='lbfgs', tol=0.0001, validation_fraction=0.1, verbose=False,\n",
       "       warm_start=False)"
      ]
     },
     "execution_count": 94,
     "metadata": {},
     "output_type": "execute_result"
    }
   ],
   "source": [
    "nn_reg.fit(X_train, y_train)"
   ]
  },
  {
   "cell_type": "code",
   "execution_count": 95,
   "metadata": {},
   "outputs": [],
   "source": [
    "y_pred_nn = nn_reg.predict(X_test)"
   ]
  },
  {
   "cell_type": "code",
   "execution_count": 96,
   "metadata": {},
   "outputs": [
    {
     "data": {
      "text/plain": [
       "60.471271674856176"
      ]
     },
     "execution_count": 96,
     "metadata": {},
     "output_type": "execute_result"
    }
   ],
   "source": [
    "np.mean( (y_test - y_pred_nn) **2 )"
   ]
  },
  {
   "cell_type": "code",
   "execution_count": 97,
   "metadata": {},
   "outputs": [
    {
     "data": {
      "text/plain": [
       "40.41422460452462"
      ]
     },
     "execution_count": 97,
     "metadata": {},
     "output_type": "execute_result"
    }
   ],
   "source": [
    "np.mean( (y_train - nn_reg.predict(X_train)) **2 )"
   ]
  },
  {
   "cell_type": "code",
   "execution_count": 98,
   "metadata": {},
   "outputs": [
    {
     "data": {
      "text/plain": [
       "5.450356721589328"
      ]
     },
     "execution_count": 98,
     "metadata": {},
     "output_type": "execute_result"
    }
   ],
   "source": [
    "from sklearn.metrics import r2_score, mean_absolute_error\n",
    "mean_absolute_error(y_test, y_pred_nn)"
   ]
  },
  {
   "cell_type": "code",
   "execution_count": 99,
   "metadata": {},
   "outputs": [
    {
     "data": {
      "text/plain": [
       "4.628828135840948"
      ]
     },
     "execution_count": 99,
     "metadata": {},
     "output_type": "execute_result"
    }
   ],
   "source": [
    "mean_absolute_error(y_train, nn_reg.predict(X_train))"
   ]
  },
  {
   "cell_type": "code",
   "execution_count": 100,
   "metadata": {},
   "outputs": [
    {
     "data": {
      "text/plain": [
       "0.1219122681058743"
      ]
     },
     "execution_count": 100,
     "metadata": {},
     "output_type": "execute_result"
    }
   ],
   "source": [
    "r2_score(y_test, y_pred_nn)"
   ]
  },
  {
   "cell_type": "code",
   "execution_count": null,
   "metadata": {},
   "outputs": [],
   "source": []
  },
  {
   "cell_type": "code",
   "execution_count": null,
   "metadata": {},
   "outputs": [],
   "source": []
  },
  {
   "cell_type": "code",
   "execution_count": null,
   "metadata": {},
   "outputs": [],
   "source": []
  },
  {
   "cell_type": "code",
   "execution_count": null,
   "metadata": {},
   "outputs": [],
   "source": []
  }
 ],
 "metadata": {
  "kernelspec": {
   "display_name": "Python 3",
   "language": "python",
   "name": "python3"
  },
  "language_info": {
   "codemirror_mode": {
    "name": "ipython",
    "version": 3
   },
   "file_extension": ".py",
   "mimetype": "text/x-python",
   "name": "python",
   "nbconvert_exporter": "python",
   "pygments_lexer": "ipython3",
   "version": "3.6.5"
  }
 },
 "nbformat": 4,
 "nbformat_minor": 2
}
