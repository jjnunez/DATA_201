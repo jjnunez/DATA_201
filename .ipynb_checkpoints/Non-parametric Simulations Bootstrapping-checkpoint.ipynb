{
 "cells": [
  {
   "cell_type": "code",
   "execution_count": 1,
   "metadata": {},
   "outputs": [],
   "source": [
    "%matplotlib inline\n",
    "import numpy as np\n",
    "import scipy.stats as stats\n",
    "import matplotlib.pyplot as plt\n",
    "import seaborn as sns\n",
    "\n"
   ]
  },
  {
   "cell_type": "markdown",
   "metadata": {},
   "source": [
    "Bootstrap is based on Sampling\n",
    "Reference: [https://docs.scipy.org/doc/numpy-1.14.0/reference/generated/numpy.random.choice.html]\n"
   ]
  },
  {
   "cell_type": "code",
   "execution_count": 3,
   "metadata": {},
   "outputs": [
    {
     "data": {
      "text/plain": [
       "array([6, 4, 6, 5])"
      ]
     },
     "execution_count": 3,
     "metadata": {},
     "output_type": "execute_result"
    }
   ],
   "source": [
    "# Unlike R, the default is replace = True\n",
    "np.random.seed(9)\n",
    "#Generate a uniform random sample from np.arange(7) of size 4:\n",
    "np.random.choice(7, 4) #  #This is equivalent to np.random.randint(0,7,4)\n",
    " "
   ]
  },
  {
   "cell_type": "code",
   "execution_count": 5,
   "metadata": {},
   "outputs": [
    {
     "data": {
      "text/plain": [
       "array([5, 4, 1, 2])"
      ]
     },
     "execution_count": 5,
     "metadata": {},
     "output_type": "execute_result"
    }
   ],
   "source": [
    "# without replacement\n",
    "np.random.choice(7, 4, replace = False)"
   ]
  },
  {
   "cell_type": "code",
   "execution_count": 9,
   "metadata": {},
   "outputs": [
    {
     "data": {
      "text/plain": [
       "array([0, 3, 3, 6], dtype=int64)"
      ]
     },
     "execution_count": 9,
     "metadata": {},
     "output_type": "execute_result"
    }
   ],
   "source": [
    "# Non-uniform\n",
    "np.random.choice(7, 4, p=[0.2, 0, 0.2, 0.4, 0, 0, 0.2])"
   ]
  },
  {
   "cell_type": "code",
   "execution_count": 17,
   "metadata": {},
   "outputs": [],
   "source": [
    "# random numbers between 0 and 6 in multi-dim array\n",
    "m_arr = np.random.randint(0, 7, (100, 10))\n",
    "\n"
   ]
  },
  {
   "cell_type": "code",
   "execution_count": 18,
   "metadata": {},
   "outputs": [
    {
     "data": {
      "text/plain": [
       "array([[6, 3, 3, 3, 3, 4, 3, 6, 4, 4],\n",
       "       [4, 1, 1, 0, 1, 1, 2, 0, 5, 5],\n",
       "       [0, 4, 2, 5, 0, 0, 1, 2, 4, 2],\n",
       "       [4, 4, 0, 4, 2, 3, 0, 6, 6, 2],\n",
       "       [3, 2, 1, 5, 4, 3, 3, 5, 6, 0],\n",
       "       [3, 2, 0, 3, 0, 2, 1, 5, 5, 3],\n",
       "       [0, 5, 3, 4, 4, 0, 3, 6, 0, 6],\n",
       "       [6, 4, 0, 3, 1, 2, 3, 5, 5, 4],\n",
       "       [5, 5, 1, 5, 2, 0, 0, 0, 5, 1],\n",
       "       [3, 2, 0, 3, 0, 2, 1, 5, 5, 3],\n",
       "       [5, 4, 4, 2, 3, 3, 5, 4, 1, 5],\n",
       "       [6, 5, 3, 0, 1, 3, 5, 4, 1, 4],\n",
       "       [1, 2, 1, 2, 6, 1, 1, 5, 4, 5],\n",
       "       [4, 1, 1, 0, 1, 1, 2, 0, 5, 5],\n",
       "       [3, 0, 4, 3, 2, 5, 0, 3, 4, 4],\n",
       "       [0, 4, 4, 0, 4, 1, 0, 1, 6, 0],\n",
       "       [0, 5, 5, 3, 3, 2, 1, 2, 0, 0],\n",
       "       [2, 3, 2, 4, 2, 0, 6, 6, 0, 0],\n",
       "       [2, 1, 4, 4, 4, 4, 0, 6, 4, 4],\n",
       "       [4, 2, 4, 0, 1, 1, 5, 2, 0, 4]])"
      ]
     },
     "execution_count": 18,
     "metadata": {},
     "output_type": "execute_result"
    }
   ],
   "source": [
    "# How to sample rows\n",
    "idx = np.random.choice(m_arr.shape[0], 20)\n",
    "m_arr[idx, :]\n",
    "\n"
   ]
  },
  {
   "cell_type": "code",
   "execution_count": 25,
   "metadata": {},
   "outputs": [
    {
     "data": {
      "text/plain": [
       "array([[0, 1, 2],\n",
       "       [3, 4, 5],\n",
       "       [6, 7, 8]])"
      ]
     },
     "execution_count": 25,
     "metadata": {},
     "output_type": "execute_result"
    }
   ],
   "source": [
    "arr = np.arange(9).reshape((3, 3))\n",
    "arr"
   ]
  },
  {
   "cell_type": "code",
   "execution_count": 26,
   "metadata": {},
   "outputs": [
    {
     "data": {
      "text/plain": [
       "array([[6, 7, 8],\n",
       "       [3, 4, 5],\n",
       "       [0, 1, 2]])"
      ]
     },
     "execution_count": 26,
     "metadata": {},
     "output_type": "execute_result"
    }
   ],
   "source": [
    "np.random.shuffle(arr)\n",
    "arr"
   ]
  },
  {
   "cell_type": "markdown",
   "metadata": {},
   "source": [
    "### Shuffle\n",
    "Reference: [https://docs.scipy.org/doc/numpy-1.14.0/reference/generated/numpy.random.shuffle.html]"
   ]
  },
  {
   "cell_type": "code",
   "execution_count": 27,
   "metadata": {},
   "outputs": [
    {
     "data": {
      "text/plain": [
       "array([2, 1, 4, 5, 0, 3, 6])"
      ]
     },
     "execution_count": 27,
     "metadata": {},
     "output_type": "execute_result"
    }
   ],
   "source": [
    "arr = np.arange(7)\n",
    "np.random.shuffle(arr)\n",
    "arr"
   ]
  },
  {
   "cell_type": "code",
   "execution_count": 30,
   "metadata": {},
   "outputs": [
    {
     "name": "stdout",
     "output_type": "stream",
     "text": [
      "[[0 1 2]\n",
      " [3 4 5]\n",
      " [6 7 8]]\n"
     ]
    },
    {
     "data": {
      "text/plain": [
       "array([[3, 4, 5],\n",
       "       [0, 1, 2],\n",
       "       [6, 7, 8]])"
      ]
     },
     "execution_count": 30,
     "metadata": {},
     "output_type": "execute_result"
    }
   ],
   "source": [
    "arr = np.arange(9).reshape((3, 3))\n",
    "print(arr)\n",
    "# occurs \"in place\" for performance; np.random.permutation does the same thing but returns copy\n",
    "np.random.shuffle(arr) # shuffle along the first axis, in this case the rows\n",
    "arr"
   ]
  },
  {
   "cell_type": "code",
   "execution_count": 36,
   "metadata": {},
   "outputs": [
    {
     "data": {
      "text/plain": [
       "0.49060877752415033"
      ]
     },
     "execution_count": 36,
     "metadata": {},
     "output_type": "execute_result"
    }
   ],
   "source": [
    "sample_1 = np.random.random(100) # The sample is generated from uniform distribution \n",
    "sample_1.mean()\n"
   ]
  },
  {
   "cell_type": "code",
   "execution_count": 48,
   "metadata": {},
   "outputs": [
    {
     "data": {
      "text/plain": [
       "0.49210076658976143"
      ]
     },
     "execution_count": 48,
     "metadata": {},
     "output_type": "execute_result"
    }
   ],
   "source": [
    "means_boot_samples = []\n",
    "for i in range(1000):\n",
    "                boot_sample = np.random.choice(sample_1, 100)\n",
    "                means_boot_samples.append(boot_sample.mean())\n",
    "        \n",
    "np.mean(means_boot_samples)"
   ]
  },
  {
   "cell_type": "code",
   "execution_count": null,
   "metadata": {},
   "outputs": [],
   "source": []
  },
  {
   "cell_type": "code",
   "execution_count": 49,
   "metadata": {},
   "outputs": [
    {
     "data": {
      "text/plain": [
       "array([0.43459021, 0.55428284])"
      ]
     },
     "execution_count": 49,
     "metadata": {},
     "output_type": "execute_result"
    }
   ],
   "source": [
    "conf_int = np.percentile(means_boot_samples, [2.5, 97.5]) # The middle 95% interval\n",
    "conf_int\n"
   ]
  },
  {
   "cell_type": "code",
   "execution_count": 50,
   "metadata": {},
   "outputs": [
    {
     "data": {
      "image/png": "[encoded data removed]",
      "text/plain": [
       "<matplotlib.figure.Figure at 0x26012f45a20>"
      ]
     },
     "metadata": {},
     "output_type": "display_data"
    }
   ],
   "source": [
    "sns.kdeplot(means_boot_samples)\n",
    "for endpoint in conf_int:\n",
    "    plt.axvline(endpoint, color='red')\n"
   ]
  },
  {
   "cell_type": "code",
   "execution_count": 51,
   "metadata": {},
   "outputs": [
    {
     "data": {
      "text/plain": [
       "0.4917428881587125"
      ]
     },
     "execution_count": 51,
     "metadata": {},
     "output_type": "execute_result"
    }
   ],
   "source": [
    "from sklearn.utils import resample\n",
    "means_boot_samples = []\n",
    "for i in range(1000):\n",
    "                boot_sample = resample(sample_1) # does bootstrap; replace = True\n",
    "                means_boot_samples.append(boot_sample.mean())\n",
    "        \n",
    "np.mean(means_boot_samples)\n"
   ]
  },
  {
   "cell_type": "code",
   "execution_count": null,
   "metadata": {},
   "outputs": [],
   "source": []
  }
 ],
 "metadata": {
  "kernelspec": {
   "display_name": "Python 3",
   "language": "python",
   "name": "python3"
  },
  "language_info": {
   "codemirror_mode": {
    "name": "ipython",
    "version": 3
   },
   "file_extension": ".py",
   "mimetype": "text/x-python",
   "name": "python",
   "nbconvert_exporter": "python",
   "pygments_lexer": "ipython3",
   "version": "3.6.5"
  }
 },
 "nbformat": 4,
 "nbformat_minor": 2
}
