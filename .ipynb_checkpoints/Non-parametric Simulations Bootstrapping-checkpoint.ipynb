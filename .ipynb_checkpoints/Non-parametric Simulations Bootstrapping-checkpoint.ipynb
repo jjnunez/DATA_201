{
 "cells": [
  {
   "cell_type": "code",
   "execution_count": 1,
   "metadata": {},
   "outputs": [],
   "source": [
    "%matplotlib inline\n",
    "import numpy as np\n",
    "import scipy.stats as stats\n",
    "import matplotlib.pyplot as plt\n",
    "import seaborn as sns\n",
    "\n"
   ]
  },
  {
   "cell_type": "markdown",
   "metadata": {},
   "source": [
    "Bootstrap is based on Sampling\n",
    "Reference: [https://docs.scipy.org/doc/numpy-1.14.0/reference/generated/numpy.random.choice.html]\n"
   ]
  },
  {
   "cell_type": "code",
   "execution_count": 2,
   "metadata": {},
   "outputs": [
    {
     "data": {
      "text/plain": [
       "array([6, 4, 6, 5])"
      ]
     },
     "execution_count": 2,
     "metadata": {},
     "output_type": "execute_result"
    }
   ],
   "source": [
    "# Unlike R, the default is replace = True\n",
    "np.random.seed(9)\n",
    "#Generate a uniform random sample from np.arange(7) of size 4:\n",
    "np.random.choice(7, 4) #  #This is equivalent to np.random.randint(0,7,4)\n",
    " "
   ]
  },
  {
   "cell_type": "code",
   "execution_count": 3,
   "metadata": {},
   "outputs": [
    {
     "data": {
      "text/plain": [
       "array([5, 4, 1, 2])"
      ]
     },
     "execution_count": 3,
     "metadata": {},
     "output_type": "execute_result"
    }
   ],
   "source": [
    "# without replacement\n",
    "np.random.choice(7, 4, replace = False)"
   ]
  },
  {
   "cell_type": "code",
   "execution_count": 4,
   "metadata": {},
   "outputs": [
    {
     "data": {
      "text/plain": [
       "array([2, 3, 2, 0], dtype=int64)"
      ]
     },
     "execution_count": 4,
     "metadata": {},
     "output_type": "execute_result"
    }
   ],
   "source": [
    "# Non-uniform\n",
    "np.random.choice(7, 4, p=[0.2, 0, 0.2, 0.4, 0, 0, 0.2])"
   ]
  },
  {
   "cell_type": "code",
   "execution_count": 5,
   "metadata": {},
   "outputs": [],
   "source": [
    "# random numbers between 0 and 6 in multi-dim array\n",
    "m_arr = np.random.randint(0, 7, (100, 10))\n",
    "\n"
   ]
  },
  {
   "cell_type": "code",
   "execution_count": 6,
   "metadata": {},
   "outputs": [
    {
     "data": {
      "text/plain": [
       "array([[4, 1, 5, 6, 3, 3, 5, 2, 4, 5],\n",
       "       [4, 3, 0, 0, 1, 2, 5, 3, 4, 3],\n",
       "       [5, 6, 2, 3, 1, 2, 6, 4, 5, 4],\n",
       "       [5, 6, 1, 0, 5, 6, 5, 1, 1, 5],\n",
       "       [1, 1, 4, 2, 1, 1, 0, 2, 2, 1],\n",
       "       [1, 4, 0, 3, 3, 3, 6, 4, 5, 6],\n",
       "       [5, 1, 6, 1, 5, 6, 1, 5, 4, 1],\n",
       "       [5, 2, 0, 3, 6, 0, 3, 1, 1, 2],\n",
       "       [5, 0, 6, 4, 6, 3, 6, 1, 2, 6],\n",
       "       [2, 4, 1, 2, 1, 6, 4, 3, 5, 2],\n",
       "       [3, 4, 6, 5, 6, 6, 2, 0, 1, 0],\n",
       "       [3, 3, 3, 0, 0, 1, 2, 2, 4, 6],\n",
       "       [5, 6, 1, 0, 5, 6, 5, 1, 1, 5],\n",
       "       [0, 0, 5, 0, 3, 3, 1, 0, 5, 4],\n",
       "       [0, 1, 5, 0, 0, 6, 6, 6, 5, 4],\n",
       "       [0, 0, 5, 0, 3, 3, 1, 0, 5, 4],\n",
       "       [2, 3, 0, 1, 6, 4, 1, 3, 3, 5],\n",
       "       [5, 1, 0, 5, 4, 5, 4, 0, 6, 1],\n",
       "       [5, 6, 5, 1, 0, 1, 3, 1, 3, 2],\n",
       "       [3, 6, 0, 0, 3, 6, 4, 5, 5, 4]])"
      ]
     },
     "execution_count": 6,
     "metadata": {},
     "output_type": "execute_result"
    }
   ],
   "source": [
    "# How to sample rows\n",
    "idx = np.random.choice(m_arr.shape[0], 20)\n",
    "m_arr[idx, :]\n",
    "\n"
   ]
  },
  {
   "cell_type": "code",
   "execution_count": 7,
   "metadata": {},
   "outputs": [
    {
     "data": {
      "text/plain": [
       "array([[0, 1, 2],\n",
       "       [3, 4, 5],\n",
       "       [6, 7, 8]])"
      ]
     },
     "execution_count": 7,
     "metadata": {},
     "output_type": "execute_result"
    }
   ],
   "source": [
    "arr = np.arange(9).reshape((3, 3))\n",
    "arr"
   ]
  },
  {
   "cell_type": "code",
   "execution_count": 8,
   "metadata": {},
   "outputs": [
    {
     "data": {
      "text/plain": [
       "array([[6, 7, 8],\n",
       "       [0, 1, 2],\n",
       "       [3, 4, 5]])"
      ]
     },
     "execution_count": 8,
     "metadata": {},
     "output_type": "execute_result"
    }
   ],
   "source": [
    "np.random.shuffle(arr)\n",
    "arr"
   ]
  },
  {
   "cell_type": "markdown",
   "metadata": {},
   "source": [
    "### Shuffle\n",
    "Reference: [https://docs.scipy.org/doc/numpy-1.14.0/reference/generated/numpy.random.shuffle.html]"
   ]
  },
  {
   "cell_type": "code",
   "execution_count": 9,
   "metadata": {},
   "outputs": [
    {
     "data": {
      "text/plain": [
       "array([0, 6, 2, 5, 4, 3, 1])"
      ]
     },
     "execution_count": 9,
     "metadata": {},
     "output_type": "execute_result"
    }
   ],
   "source": [
    "arr = np.arange(7)\n",
    "np.random.shuffle(arr)\n",
    "arr"
   ]
  },
  {
   "cell_type": "code",
   "execution_count": 10,
   "metadata": {},
   "outputs": [
    {
     "name": "stdout",
     "output_type": "stream",
     "text": [
      "[[0 1 2]\n",
      " [3 4 5]\n",
      " [6 7 8]]\n"
     ]
    },
    {
     "data": {
      "text/plain": [
       "array([[3, 4, 5],\n",
       "       [6, 7, 8],\n",
       "       [0, 1, 2]])"
      ]
     },
     "execution_count": 10,
     "metadata": {},
     "output_type": "execute_result"
    }
   ],
   "source": [
    "arr = np.arange(9).reshape((3, 3))\n",
    "print(arr)\n",
    "# occurs \"in place\" for performance; np.random.permutation does the same thing but returns copy\n",
    "np.random.shuffle(arr) # shuffle along the first axis, in this case the rows\n",
    "arr"
   ]
  },
  {
   "cell_type": "code",
   "execution_count": 16,
   "metadata": {},
   "outputs": [
    {
     "data": {
      "text/plain": [
       "array([0.1725752 , 0.93761779, 0.13486087, 0.87701532, 0.83720521,\n",
       "       0.49550116, 0.2985068 , 0.46043004, 0.26945605, 0.15990706,\n",
       "       0.53360287, 0.21878479, 0.47953374, 0.78518784, 0.26756578,\n",
       "       0.09240966, 0.48193518, 0.67654846, 0.52296725, 0.73010228,\n",
       "       0.08589958, 0.97579574, 0.49379781, 0.26692167, 0.40951525,\n",
       "       0.99323277, 0.1555037 , 0.82039857, 0.29717327, 0.71105236,\n",
       "       0.02172891, 0.28596279, 0.39815017, 0.54972075, 0.35936956,\n",
       "       0.01112283, 0.93411175, 0.32978389, 0.6335449 , 0.78782787,\n",
       "       0.34558922, 0.9265749 , 0.95151967, 0.6371223 , 0.27669711,\n",
       "       0.56260288, 0.33282092, 0.37503484, 0.32325267, 0.73147458,\n",
       "       0.26038191, 0.31568452, 0.47619486, 0.04373688, 0.54981736,\n",
       "       0.33600057, 0.27939783, 0.03947909, 0.98243246, 0.99420405,\n",
       "       0.76870721, 0.62966376, 0.26265317, 0.68941912, 0.12682762,\n",
       "       0.27644606, 0.8149273 , 0.53763726, 0.368789  , 0.65907171,\n",
       "       0.64209748, 0.14762672, 0.63397891, 0.39841998, 0.99686829,\n",
       "       0.30238277, 0.60690566, 0.1948396 , 0.69444987, 0.50160076,\n",
       "       0.86230126, 0.80814693, 0.96527019, 0.05346352, 0.9808994 ,\n",
       "       0.77593881, 0.94019011, 0.3696192 , 0.59374663, 0.34474588,\n",
       "       0.94010133, 0.78833086, 0.35923707, 0.51142879, 0.3831883 ,\n",
       "       0.68179778, 0.07791563, 0.31525619, 0.53435633, 0.04963322])"
      ]
     },
     "execution_count": 16,
     "metadata": {},
     "output_type": "execute_result"
    }
   ],
   "source": [
    "sample_1 = np.random.random(100) # The sample is generated from uniform distribution \n",
    "sample_1"
   ]
  },
  {
   "cell_type": "code",
   "execution_count": 17,
   "metadata": {},
   "outputs": [
    {
     "data": {
      "text/plain": [
       "array([0.1555037 , 0.78833086, 0.2985068 , 0.3696192 , 0.30238277,\n",
       "       0.01112283, 0.68941912, 0.60690566, 0.6371223 , 0.3831883 ,\n",
       "       0.86230126, 0.53435633, 0.78782787, 0.53763726, 0.04963322,\n",
       "       0.32325267, 0.27669711, 0.40951525, 0.83720521, 0.34558922,\n",
       "       0.46043004, 0.26945605, 0.56260288, 0.31525619, 0.3831883 ,\n",
       "       0.53435633, 0.78782787, 0.50160076, 0.26692167, 0.3831883 ,\n",
       "       0.99686829, 0.86230126, 0.78782787, 0.26038191, 0.56260288,\n",
       "       0.98243246, 0.33282092, 0.6371223 , 0.53763726, 0.21878479,\n",
       "       0.26692167, 0.32325267, 0.51142879, 0.53360287, 0.52296725,\n",
       "       0.62966376, 0.56260288, 0.83720521, 0.02172891, 0.94010133,\n",
       "       0.04963322, 0.93761779, 0.28596279, 0.49550116, 0.35923707,\n",
       "       0.39815017, 0.1725752 , 0.62966376, 0.67654846, 0.65907171,\n",
       "       0.02172891, 0.76870721, 0.48193518, 0.94019011, 0.1948396 ,\n",
       "       0.47953374, 0.73147458, 0.48193518, 0.26692167, 0.14762672,\n",
       "       0.83720521, 0.60690566, 0.08589958, 0.56260288, 0.78518784,\n",
       "       0.35936956, 0.35936956, 0.64209748, 0.14762672, 0.63397891,\n",
       "       0.77593881, 0.64209748, 0.03947909, 0.26265317, 0.93411175,\n",
       "       0.94019011, 0.46043004, 0.68941912, 0.78833086, 0.94019011,\n",
       "       0.53763726, 0.78782787, 0.53763726, 0.86230126, 0.99686829,\n",
       "       0.3831883 , 0.62966376, 0.78518784, 0.32978389, 0.14762672])"
      ]
     },
     "execution_count": 17,
     "metadata": {},
     "output_type": "execute_result"
    }
   ],
   "source": [
    "np.random.choice(sample_1, 100)"
   ]
  },
  {
   "cell_type": "code",
   "execution_count": 11,
   "metadata": {},
   "outputs": [
    {
     "data": {
      "text/plain": [
       "0.46347043604591087"
      ]
     },
     "execution_count": 11,
     "metadata": {},
     "output_type": "execute_result"
    }
   ],
   "source": [
    "sample_1.mean()"
   ]
  },
  {
   "cell_type": "code",
   "execution_count": null,
   "metadata": {},
   "outputs": [],
   "source": [
    "means_boot_samples = []\n",
    "for i in range(1000):\n",
    "                boot_sample = np.random.choice(sample_1, 100)\n",
    "                means_boot_samples.append(boot_sample.mean())\n",
    "   "
   ]
  },
  {
   "cell_type": "code",
   "execution_count": 22,
   "metadata": {},
   "outputs": [
    {
     "data": {
      "text/plain": [
       "1000"
      ]
     },
     "execution_count": 22,
     "metadata": {},
     "output_type": "execute_result"
    }
   ],
   "source": [
    "len(means_boot_samples)"
   ]
  },
  {
   "cell_type": "code",
   "execution_count": 23,
   "metadata": {},
   "outputs": [
    {
     "data": {
      "text/plain": [
       "0.46322258857712456"
      ]
     },
     "execution_count": 23,
     "metadata": {},
     "output_type": "execute_result"
    }
   ],
   "source": [
    "    \n",
    "np.mean(means_boot_samples)"
   ]
  },
  {
   "cell_type": "code",
   "execution_count": null,
   "metadata": {},
   "outputs": [],
   "source": []
  },
  {
   "cell_type": "code",
   "execution_count": 24,
   "metadata": {},
   "outputs": [
    {
     "data": {
      "text/plain": [
       "array([0.40942435, 0.52043559])"
      ]
     },
     "execution_count": 24,
     "metadata": {},
     "output_type": "execute_result"
    }
   ],
   "source": [
    "conf_int = np.percentile(means_boot_samples, [2.5, 97.5]) # The middle 95% interval\n",
    "conf_int\n"
   ]
  },
  {
   "cell_type": "code",
   "execution_count": 14,
   "metadata": {},
   "outputs": [
    {
     "data": {
      "image/png": "[encoded data removed]",
      "text/plain": [
       "<Figure size 432x288 with 1 Axes>"
      ]
     },
     "metadata": {},
     "output_type": "display_data"
    }
   ],
   "source": [
    "sns.kdeplot(means_boot_samples)\n",
    "for endpoint in conf_int:\n",
    "    plt.axvline(endpoint, color='red')\n"
   ]
  },
  {
   "cell_type": "code",
   "execution_count": 15,
   "metadata": {},
   "outputs": [
    {
     "data": {
      "text/plain": [
       "0.46322258857712456"
      ]
     },
     "execution_count": 15,
     "metadata": {},
     "output_type": "execute_result"
    }
   ],
   "source": [
    "from sklearn.utils import resample\n",
    "means_boot_samples = []\n",
    "for i in range(1000):\n",
    "                boot_sample = resample(sample_1) # does bootstrap; replace = True\n",
    "                means_boot_samples.append(boot_sample.mean())\n",
    "        \n",
    "np.mean(means_boot_samples)\n"
   ]
  },
  {
   "cell_type": "code",
   "execution_count": null,
   "metadata": {},
   "outputs": [],
   "source": []
  }
 ],
 "metadata": {
  "kernelspec": {
   "display_name": "Python 3",
   "language": "python",
   "name": "python3"
  },
  "language_info": {
   "codemirror_mode": {
    "name": "ipython",
    "version": 3
   },
   "file_extension": ".py",
   "mimetype": "text/x-python",
   "name": "python",
   "nbconvert_exporter": "python",
   "pygments_lexer": "ipython3",
   "version": "3.6.5"
  }
 },
 "nbformat": 4,
 "nbformat_minor": 2
}
