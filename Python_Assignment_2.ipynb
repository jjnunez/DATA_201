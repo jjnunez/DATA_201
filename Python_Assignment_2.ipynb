{
 "cells": [
  {
   "cell_type": "markdown",
   "metadata": {},
   "source": [
    "## Below we are going on to do bootstrap resampling"
   ]
  },
  {
   "cell_type": "code",
   "execution_count": 1,
   "metadata": {},
   "outputs": [],
   "source": [
    "%matplotlib inline\n",
    "import numpy as np\n",
    "import scipy.stats as stats\n",
    "import matplotlib.pyplot as plt\n",
    "import seaborn as sns"
   ]
  },
  {
   "cell_type": "code",
   "execution_count": 2,
   "metadata": {},
   "outputs": [],
   "source": [
    "## Import `os'\n",
    "import os"
   ]
  },
  {
   "cell_type": "code",
   "execution_count": 3,
   "metadata": {},
   "outputs": [
    {
     "data": {
      "text/plain": [
       "'C:\\\\Users\\\\Juan Nunez'"
      ]
     },
     "execution_count": 3,
     "metadata": {},
     "output_type": "execute_result"
    }
   ],
   "source": [
    "## Now that `os' is downloaded, I'm going to save the command to get the working directory as `cwd'\n",
    "\n",
    "cwd = os.getcwd()\n",
    "cwd"
   ]
  },
  {
   "cell_type": "code",
   "execution_count": 4,
   "metadata": {},
   "outputs": [
    {
     "data": {
      "text/plain": [
       "'C:\\\\Users\\\\Juan Nunez\\\\Desktop\\\\DATA_201'"
      ]
     },
     "execution_count": 4,
     "metadata": {},
     "output_type": "execute_result"
    }
   ],
   "source": [
    "## Now I want to change my working directory to the folder that contains my project files.\n",
    "os.chdir(\"C:/Users/Juan Nunez/Desktop/DATA_201\")\n",
    "cwd = os.getcwd()\n",
    "cwd"
   ]
  },
  {
   "cell_type": "code",
   "execution_count": 5,
   "metadata": {},
   "outputs": [
    {
     "data": {
      "text/plain": [
       "['.git',\n",
       " '.ipynb_checkpoints',\n",
       " 'ASSIG1_DATA.csv',\n",
       " 'ASSIG1_DATA.xlsx',\n",
       " 'Basic Matplotlib.ipynb',\n",
       " 'Basic Numpy.ipynb',\n",
       " 'Basic Pandas.ipynb',\n",
       " 'Basic Python 1.ipynb',\n",
       " 'HD4.stc',\n",
       " 'HDAT4.tsv',\n",
       " 'HDATA4-Codebook.pdf',\n",
       " 'hespese4.dta',\n",
       " 'HESPESE_4.sav',\n",
       " 'LESDATA.csv',\n",
       " 'Non-parametric Simulations Bootstrapping.ipynb',\n",
       " 'Project_1.ipynb',\n",
       " 'SPSS_DATA_FOR_Python.sav']"
      ]
     },
     "execution_count": 5,
     "metadata": {},
     "output_type": "execute_result"
    }
   ],
   "source": [
    "## Now I list all files and directories in the current directory\n",
    "os.listdir('.')"
   ]
  },
  {
   "cell_type": "code",
   "execution_count": 6,
   "metadata": {},
   "outputs": [],
   "source": [
    "## I start by importing pandas and then I assign the project spreadsheet to the file named `PROJECT1_DATA'\n",
    "import pandas as pd\n",
    "PROJECT2_DATA = \"ASSIG1_DATA.xlsx\""
   ]
  },
  {
   "cell_type": "code",
   "execution_count": 7,
   "metadata": {},
   "outputs": [],
   "source": [
    "## Once the command above runs, I load the spreadsheet\n",
    "WB_DATA = pd.ExcelFile(PROJECT2_DATA)"
   ]
  },
  {
   "cell_type": "code",
   "execution_count": 8,
   "metadata": {},
   "outputs": [
    {
     "data": {
      "text/html": [
       "<div>\n",
       "<style scoped>\n",
       "    .dataframe tbody tr th:only-of-type {\n",
       "        vertical-align: middle;\n",
       "    }\n",
       "\n",
       "    .dataframe tbody tr th {\n",
       "        vertical-align: top;\n",
       "    }\n",
       "\n",
       "    .dataframe thead th {\n",
       "        text-align: right;\n",
       "    }\n",
       "</style>\n",
       "<table border=\"1\" class=\"dataframe\">\n",
       "  <thead>\n",
       "    <tr style=\"text-align: right;\">\n",
       "      <th></th>\n",
       "      <th>V1</th>\n",
       "      <th>V2</th>\n",
       "      <th>V3</th>\n",
       "      <th>V4</th>\n",
       "      <th>V5</th>\n",
       "      <th>V6</th>\n",
       "      <th>V7</th>\n",
       "      <th>V8</th>\n",
       "      <th>V9</th>\n",
       "      <th>V10</th>\n",
       "      <th>...</th>\n",
       "      <th>V347</th>\n",
       "      <th>V348</th>\n",
       "      <th>V349</th>\n",
       "      <th>V350</th>\n",
       "      <th>V351</th>\n",
       "      <th>V352</th>\n",
       "      <th>V353</th>\n",
       "      <th>V354</th>\n",
       "      <th>V355</th>\n",
       "      <th>V356</th>\n",
       "    </tr>\n",
       "  </thead>\n",
       "  <tbody>\n",
       "    <tr>\n",
       "      <th>1</th>\n",
       "      <td>1.0</td>\n",
       "      <td>AFGN</td>\n",
       "      <td>Afghanistan</td>\n",
       "      <td>1.831347e-317</td>\n",
       "      <td>86.0</td>\n",
       "      <td>NaN</td>\n",
       "      <td>NaN</td>\n",
       "      <td>4.770435e-312</td>\n",
       "      <td>4.66726e-62</td>\n",
       "      <td>1.992802e-314</td>\n",
       "      <td>...</td>\n",
       "      <td>30.0</td>\n",
       "      <td>1.0</td>\n",
       "      <td>1.831347e-317</td>\n",
       "      <td>1.831347e-317</td>\n",
       "      <td>1903598564354620012848663309848014638105555257...</td>\n",
       "      <td>86</td>\n",
       "      <td>1903598564987169929952080041494215270208234778...</td>\n",
       "      <td>1903598564986480049620822663735025514030830122...</td>\n",
       "      <td>4.66726e-62</td>\n",
       "      <td>-1.54235e-180</td>\n",
       "    </tr>\n",
       "    <tr>\n",
       "      <th>2</th>\n",
       "      <td>2.0</td>\n",
       "      <td>ALBN</td>\n",
       "      <td>Albania</td>\n",
       "      <td>3.500000e+01</td>\n",
       "      <td>NaN</td>\n",
       "      <td>NaN</td>\n",
       "      <td>NaN</td>\n",
       "      <td>4.770435e-312</td>\n",
       "      <td>4.66726e-62</td>\n",
       "      <td>1.992802e-314</td>\n",
       "      <td>...</td>\n",
       "      <td>23.0</td>\n",
       "      <td>0.0</td>\n",
       "      <td>3.700000e+01</td>\n",
       "      <td>4.200000e+01</td>\n",
       "      <td>-1.54235e-180</td>\n",
       "      <td>-606598799537778030498068346917171621787230526...</td>\n",
       "      <td>-1.54235e-180</td>\n",
       "      <td>1903598568784539979317334521818912869329625308...</td>\n",
       "      <td>-1.54235e-180</td>\n",
       "      <td>7387368604391389961531629446154911340063321473...</td>\n",
       "    </tr>\n",
       "    <tr>\n",
       "      <th>3</th>\n",
       "      <td>3.0</td>\n",
       "      <td>ALGR</td>\n",
       "      <td>Algeria</td>\n",
       "      <td>5.300000e+01</td>\n",
       "      <td>55.0</td>\n",
       "      <td>42.0</td>\n",
       "      <td>36.0</td>\n",
       "      <td>1.068570e-314</td>\n",
       "      <td>4.1517640553345e-317</td>\n",
       "      <td>1.992802e-314</td>\n",
       "      <td>...</td>\n",
       "      <td>51.0</td>\n",
       "      <td>0.0</td>\n",
       "      <td>6.600000e+01</td>\n",
       "      <td>8.000000e+01</td>\n",
       "      <td>-606598799537817016346544476218695288720880200...</td>\n",
       "      <td>1903598568786010013161051008606437999670011858...</td>\n",
       "      <td>-606598800007985974824244695882971448392624142...</td>\n",
       "      <td>-1.54235e-180</td>\n",
       "      <td>1903598566250489963479367665884899417273199752...</td>\n",
       "      <td>2954938174092550001904709013576950425412680971...</td>\n",
       "    </tr>\n",
       "    <tr>\n",
       "      <th>4</th>\n",
       "      <td>4.0</td>\n",
       "      <td>ANGL</td>\n",
       "      <td>Angola</td>\n",
       "      <td>2.800000e+01</td>\n",
       "      <td>72.0</td>\n",
       "      <td>29.0</td>\n",
       "      <td>NaN</td>\n",
       "      <td>6.716447e-318</td>\n",
       "      <td>4.66726e-62</td>\n",
       "      <td>1.992802e-314</td>\n",
       "      <td>...</td>\n",
       "      <td>25.0</td>\n",
       "      <td>0.0</td>\n",
       "      <td>1.831347e-317</td>\n",
       "      <td>1.831347e-317</td>\n",
       "      <td>4.66726e-62</td>\n",
       "      <td>7.26357130900034e-317</td>\n",
       "      <td>-1.54235e-180</td>\n",
       "      <td>4.66726e-62</td>\n",
       "      <td>4.66726e-62</td>\n",
       "      <td>-606598800008254011886128563748725335065048576...</td>\n",
       "    </tr>\n",
       "    <tr>\n",
       "      <th>5</th>\n",
       "      <td>5.0</td>\n",
       "      <td>ARGN</td>\n",
       "      <td>Argentina</td>\n",
       "      <td>8.700000e+01</td>\n",
       "      <td>5.0</td>\n",
       "      <td>NaN</td>\n",
       "      <td>NaN</td>\n",
       "      <td>1.068606e-314</td>\n",
       "      <td>-1.54235e-180</td>\n",
       "      <td>2.279817e-319</td>\n",
       "      <td>...</td>\n",
       "      <td>45.0</td>\n",
       "      <td>0.0</td>\n",
       "      <td>3.300000e+01</td>\n",
       "      <td>3.800000e+01</td>\n",
       "      <td>-1.54235e-180</td>\n",
       "      <td>-606598799066861980444196006434445767939750809...</td>\n",
       "      <td>4.15151109372383e-317</td>\n",
       "      <td>1903598566251259851814031260320756694407721359...</td>\n",
       "      <td>-606598800007641013669782208205381996254188452...</td>\n",
       "      <td>7.98247e-157</td>\n",
       "    </tr>\n",
       "  </tbody>\n",
       "</table>\n",
       "<p>5 rows × 356 columns</p>\n",
       "</div>"
      ],
      "text/plain": [
       "    V1    V2           V3             V4    V5    V6    V7             V8  \\\n",
       "1  1.0  AFGN  Afghanistan  1.831347e-317  86.0   NaN   NaN  4.770435e-312   \n",
       "2  2.0  ALBN      Albania   3.500000e+01   NaN   NaN   NaN  4.770435e-312   \n",
       "3  3.0  ALGR      Algeria   5.300000e+01  55.0  42.0  36.0  1.068570e-314   \n",
       "4  4.0  ANGL       Angola   2.800000e+01  72.0  29.0   NaN  6.716447e-318   \n",
       "5  5.0  ARGN    Argentina   8.700000e+01   5.0   NaN   NaN  1.068606e-314   \n",
       "\n",
       "                     V9            V10  \\\n",
       "1           4.66726e-62  1.992802e-314   \n",
       "2           4.66726e-62  1.992802e-314   \n",
       "3  4.1517640553345e-317  1.992802e-314   \n",
       "4           4.66726e-62  1.992802e-314   \n",
       "5         -1.54235e-180  2.279817e-319   \n",
       "\n",
       "                         ...                          V347  V348  \\\n",
       "1                        ...                          30.0   1.0   \n",
       "2                        ...                          23.0   0.0   \n",
       "3                        ...                          51.0   0.0   \n",
       "4                        ...                          25.0   0.0   \n",
       "5                        ...                          45.0   0.0   \n",
       "\n",
       "            V349           V350  \\\n",
       "1  1.831347e-317  1.831347e-317   \n",
       "2   3.700000e+01   4.200000e+01   \n",
       "3   6.600000e+01   8.000000e+01   \n",
       "4  1.831347e-317  1.831347e-317   \n",
       "5   3.300000e+01   3.800000e+01   \n",
       "\n",
       "                                                V351  \\\n",
       "1  1903598564354620012848663309848014638105555257...   \n",
       "2                                      -1.54235e-180   \n",
       "3  -606598799537817016346544476218695288720880200...   \n",
       "4                                        4.66726e-62   \n",
       "5                                      -1.54235e-180   \n",
       "\n",
       "                                                V352  \\\n",
       "1                                                 86   \n",
       "2  -606598799537778030498068346917171621787230526...   \n",
       "3  1903598568786010013161051008606437999670011858...   \n",
       "4                              7.26357130900034e-317   \n",
       "5  -606598799066861980444196006434445767939750809...   \n",
       "\n",
       "                                                V353  \\\n",
       "1  1903598564987169929952080041494215270208234778...   \n",
       "2                                      -1.54235e-180   \n",
       "3  -606598800007985974824244695882971448392624142...   \n",
       "4                                      -1.54235e-180   \n",
       "5                              4.15151109372383e-317   \n",
       "\n",
       "                                                V354  \\\n",
       "1  1903598564986480049620822663735025514030830122...   \n",
       "2  1903598568784539979317334521818912869329625308...   \n",
       "3                                      -1.54235e-180   \n",
       "4                                        4.66726e-62   \n",
       "5  1903598566251259851814031260320756694407721359...   \n",
       "\n",
       "                                                V355  \\\n",
       "1                                        4.66726e-62   \n",
       "2                                      -1.54235e-180   \n",
       "3  1903598566250489963479367665884899417273199752...   \n",
       "4                                        4.66726e-62   \n",
       "5  -606598800007641013669782208205381996254188452...   \n",
       "\n",
       "                                                V356  \n",
       "1                                      -1.54235e-180  \n",
       "2  7387368604391389961531629446154911340063321473...  \n",
       "3  2954938174092550001904709013576950425412680971...  \n",
       "4  -606598800008254011886128563748725335065048576...  \n",
       "5                                       7.98247e-157  \n",
       "\n",
       "[5 rows x 356 columns]"
      ]
     },
     "execution_count": 8,
     "metadata": {},
     "output_type": "execute_result"
    }
   ],
   "source": [
    "## Finally, I load the sheet into a DataFrame using the name : WB_DF\n",
    "WB_DF = WB_DATA.parse('in')\n",
    "WB_DF.head()"
   ]
  },
  {
   "cell_type": "code",
   "execution_count": 9,
   "metadata": {},
   "outputs": [
    {
     "data": {
      "text/plain": [
       "(148, 356)"
      ]
     },
     "execution_count": 9,
     "metadata": {},
     "output_type": "execute_result"
    }
   ],
   "source": [
    "## Now that the DataFrame seems to be succesfully uploaded to Python, I will start with the project. \n",
    "## I start by looking at the dimension of the Dataframe\n",
    "WB_DF.shape"
   ]
  },
  {
   "cell_type": "code",
   "execution_count": 10,
   "metadata": {},
   "outputs": [
    {
     "data": {
      "text/plain": [
       "1      86.0\n",
       "2       NaN\n",
       "3      55.0\n",
       "4      72.0\n",
       "5       5.0\n",
       "6       NaN\n",
       "7       2.0\n",
       "8       2.0\n",
       "9       NaN\n",
       "10     78.0\n",
       "11      NaN\n",
       "12      2.0\n",
       "13     84.0\n",
       "14     75.0\n",
       "15     29.0\n",
       "16     35.0\n",
       "17     20.0\n",
       "18      NaN\n",
       "19     91.0\n",
       "20     60.0\n",
       "21     78.0\n",
       "22     57.0\n",
       "23      2.0\n",
       "24     75.0\n",
       "25     82.0\n",
       "26      7.0\n",
       "27     38.0\n",
       "28     14.0\n",
       "29     56.0\n",
       "30      7.0\n",
       "       ... \n",
       "119     2.0\n",
       "120     2.0\n",
       "121    49.0\n",
       "122     NaN\n",
       "123     NaN\n",
       "124    10.0\n",
       "125    69.0\n",
       "126     NaN\n",
       "127    44.0\n",
       "128    29.0\n",
       "129     NaN\n",
       "130    65.0\n",
       "131     NaN\n",
       "132     NaN\n",
       "133     2.0\n",
       "134     2.0\n",
       "135     4.0\n",
       "136     NaN\n",
       "137    10.0\n",
       "138    16.0\n",
       "139    74.0\n",
       "140    12.0\n",
       "141    39.0\n",
       "142    35.0\n",
       "143    40.0\n",
       "144     NaN\n",
       "145     NaN\n",
       "146     NaN\n",
       "147     NaN\n",
       "148     NaN\n",
       "Name: V5, Length: 148, dtype: float64"
      ]
     },
     "execution_count": 10,
     "metadata": {},
     "output_type": "execute_result"
    }
   ],
   "source": [
    "## The variable I will be using for the analysis is going to be V5 % ADULT FEMALE ILLITERACY 1990\n",
    "WB_DF['V5']"
   ]
  },
  {
   "cell_type": "code",
   "execution_count": 11,
   "metadata": {},
   "outputs": [],
   "source": [
    "WB_DF = WB_DF.dropna(subset = ['V5'])"
   ]
  },
  {
   "cell_type": "code",
   "execution_count": 12,
   "metadata": {},
   "outputs": [
    {
     "data": {
      "text/plain": [
       "1      86.0\n",
       "3      55.0\n",
       "4      72.0\n",
       "5       5.0\n",
       "7       2.0\n",
       "8       2.0\n",
       "10     78.0\n",
       "12      2.0\n",
       "13     84.0\n",
       "14     75.0\n",
       "15     29.0\n",
       "16     35.0\n",
       "17     20.0\n",
       "19     91.0\n",
       "20     60.0\n",
       "21     78.0\n",
       "22     57.0\n",
       "23      2.0\n",
       "24     75.0\n",
       "25     82.0\n",
       "26      7.0\n",
       "27     38.0\n",
       "28     14.0\n",
       "29     56.0\n",
       "30      7.0\n",
       "31     60.0\n",
       "34      2.0\n",
       "35     18.0\n",
       "36     16.0\n",
       "37     66.0\n",
       "       ... \n",
       "101    12.0\n",
       "102    21.0\n",
       "103    11.0\n",
       "105    19.0\n",
       "109    63.0\n",
       "110    52.0\n",
       "111    75.0\n",
       "112    89.0\n",
       "114    86.0\n",
       "116     7.0\n",
       "117    17.0\n",
       "118    88.0\n",
       "119     2.0\n",
       "120     2.0\n",
       "121    49.0\n",
       "124    10.0\n",
       "125    69.0\n",
       "127    44.0\n",
       "128    29.0\n",
       "130    65.0\n",
       "133     2.0\n",
       "134     2.0\n",
       "135     4.0\n",
       "137    10.0\n",
       "138    16.0\n",
       "139    74.0\n",
       "140    12.0\n",
       "141    39.0\n",
       "142    35.0\n",
       "143    40.0\n",
       "Name: V5, Length: 102, dtype: float64"
      ]
     },
     "execution_count": 12,
     "metadata": {},
     "output_type": "execute_result"
    }
   ],
   "source": [
    "## The variable I will be using for the analysis is going to be V5 % ADULT FEMALE ILLITERACY 1990\n",
    "WB_DF['V5']"
   ]
  },
  {
   "cell_type": "code",
   "execution_count": 13,
   "metadata": {},
   "outputs": [
    {
     "data": {
      "text/plain": [
       "(102, 356)"
      ]
     },
     "execution_count": 13,
     "metadata": {},
     "output_type": "execute_result"
    }
   ],
   "source": [
    "WB_DF.shape"
   ]
  },
  {
   "cell_type": "code",
   "execution_count": 14,
   "metadata": {},
   "outputs": [
    {
     "data": {
      "text/plain": [
       "pandas.core.series.Series"
      ]
     },
     "execution_count": 14,
     "metadata": {},
     "output_type": "execute_result"
    }
   ],
   "source": [
    "## I take the variable I am going to be using.\n",
    "WB_DF2 = WB_DF['V5']\n",
    "type(WB_DF2)"
   ]
  },
  {
   "cell_type": "code",
   "execution_count": 15,
   "metadata": {},
   "outputs": [
    {
     "data": {
      "text/plain": [
       "array([ 2., 55., 30., 14.,  2., 14., 27., 15., 29., 65., 52.,  2.,  2.,\n",
       "       86., 62., 15., 69., 11., 30.,  2., 28., 20., 75., 49., 30., 55.,\n",
       "       30., 39., 35., 53., 82., 75., 86., 30., 42., 87., 91., 15., 79.,\n",
       "       52., 52.,  2., 55., 87., 14.,  7., 29.,  2., 39., 27., 79., 86.,\n",
       "       11., 30., 57.,  2.,  2.,  7., 82., 30., 29.,  2., 12.,  2., 55.,\n",
       "        2., 65., 52., 62., 78.,  1., 83., 66.,  7., 12., 79., 82., 66.,\n",
       "       32.,  7., 82., 30.,  7., 16.,  2., 57., 35., 32., 30., 60., 19.,\n",
       "       66., 62., 65.,  2., 17., 11., 65.,  2., 55., 10., 52.])"
      ]
     },
     "execution_count": 15,
     "metadata": {},
     "output_type": "execute_result"
    }
   ],
   "source": [
    "## I start by taking the mean\n",
    "np.random.seed(9)\n",
    "samp1 = np.random.choice(WB_DF2, 102)\n",
    "samp1"
   ]
  },
  {
   "cell_type": "code",
   "execution_count": 16,
   "metadata": {},
   "outputs": [
    {
     "name": "stdout",
     "output_type": "stream",
     "text": [
      "38.72549019607843\n",
      "38.31372549019608\n"
     ]
    }
   ],
   "source": [
    "## We see that the sample mean is close to the real mean\n",
    "print(WB_DF2.mean())\n",
    "print(samp1.mean())"
   ]
  },
  {
   "cell_type": "code",
   "execution_count": 17,
   "metadata": {},
   "outputs": [],
   "source": [
    "## Now we do the bootstrap\n",
    "sample_means = []\n",
    "for i in range(1000):\n",
    "                boot_sample = np.random.choice(samp1, 100)\n",
    "                sample_means.append(boot_sample.mean())"
   ]
  },
  {
   "cell_type": "code",
   "execution_count": 19,
   "metadata": {},
   "outputs": [
    {
     "data": {
      "text/plain": [
       "1000"
      ]
     },
     "execution_count": 19,
     "metadata": {},
     "output_type": "execute_result"
    }
   ],
   "source": [
    "## The length of the variable that contains our means\n",
    "len(sample_means)"
   ]
  },
  {
   "cell_type": "code",
   "execution_count": 20,
   "metadata": {},
   "outputs": [
    {
     "data": {
      "text/plain": [
       "38.17194"
      ]
     },
     "execution_count": 20,
     "metadata": {},
     "output_type": "execute_result"
    }
   ],
   "source": [
    "## What is the mean of the sample means?\n",
    "np.mean(sample_means)"
   ]
  },
  {
   "cell_type": "code",
   "execution_count": 21,
   "metadata": {},
   "outputs": [
    {
     "data": {
      "text/plain": [
       "array([32.589 , 43.7315])"
      ]
     },
     "execution_count": 21,
     "metadata": {},
     "output_type": "execute_result"
    }
   ],
   "source": [
    "## The length of our samples' means is close to the real mean.\n",
    "conf_int = np.percentile(sample_means, [2.5, 97.5]) # The middle 95% interval\n",
    "conf_int"
   ]
  },
  {
   "cell_type": "code",
   "execution_count": 22,
   "metadata": {},
   "outputs": [
    {
     "data": {
      "image/png": "[encoded data removed]",
      "text/plain": [
       "<Figure size 432x288 with 1 Axes>"
      ]
     },
     "metadata": {},
     "output_type": "display_data"
    }
   ],
   "source": [
    "## We see that the mean of the means lies inside the confidence interval.  Let's look at it graphically.\n",
    "sns.kdeplot(sample_means)\n",
    "for endpoint in conf_int:\n",
    "    plt.axvline(endpoint, color='red')"
   ]
  }
 ],
 "metadata": {
  "kernelspec": {
   "display_name": "Python 3",
   "language": "python",
   "name": "python3"
  },
  "language_info": {
   "codemirror_mode": {
    "name": "ipython",
    "version": 3
   },
   "file_extension": ".py",
   "mimetype": "text/x-python",
   "name": "python",
   "nbconvert_exporter": "python",
   "pygments_lexer": "ipython3",
   "version": "3.6.5"
  }
 },
 "nbformat": 4,
 "nbformat_minor": 2
}
